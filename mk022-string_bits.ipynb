{
  "cells": [
    {
      "cell_type": "code",
      "source": [
        "# Given a string, return a new string made of every other \n",
        "# character starting with the first, so \"Hello\" yields \"Hlo\".\n",
        "\n",
        "# For example:\n",
        "# string_bits('Hello') → 'Hlo'\n",
        "# string_bits('Hi') → 'H'\n",
        "# string_bits('Heeololeo') → 'Hello'\n",
        "\n",
        "\n",
        "def string_bits(str):\n",
        "  return str[::2]\n",
        "\n",
        "\n",
        "print(string_bits('Hello'))\n",
        "print(string_bits('Hi'))\n",
        "print(string_bits('Heeololeo'))"
      ],
      "outputs": [
        {
          "output_type": "stream",
          "name": "stdout",
          "text": [
            "Hlo\n",
            "H\n",
            "Hello\n"
          ]
        }
      ],
      "execution_count": 1,
      "metadata": {
        "collapsed": false,
        "outputHidden": false,
        "inputHidden": false
      }
    },
    {
      "cell_type": "code",
      "source": [],
      "outputs": [],
      "execution_count": null,
      "metadata": {
        "collapsed": false,
        "outputHidden": false,
        "inputHidden": false
      }
    }
  ],
  "metadata": {
    "kernel_info": {
      "name": "python3"
    },
    "language_info": {
      "name": "python",
      "version": "3.6.8",
      "mimetype": "text/x-python",
      "codemirror_mode": {
        "name": "ipython",
        "version": 3
      },
      "pygments_lexer": "ipython3",
      "nbconvert_exporter": "python",
      "file_extension": ".py"
    },
    "kernelspec": {
      "name": "python3",
      "language": "python",
      "display_name": "Python 3"
    },
    "nteract": {
      "version": "0.14.2"
    }
  },
  "nbformat": 4,
  "nbformat_minor": 0
}