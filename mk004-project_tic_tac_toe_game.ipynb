{
 "cells": [
  {
   "cell_type": "code",
   "execution_count": 9,
   "metadata": {},
   "outputs": [
    {
     "name": "stdout",
     "output_type": "stream",
     "text": [
      "\n",
      "Welcome to Tic Tac Toe!\n"
     ]
    },
    {
     "name": "stdin",
     "output_type": "stream",
     "text": [
      "Player 1: Do you want to be X or O?  x\n"
     ]
    },
    {
     "name": "stdout",
     "output_type": "stream",
     "text": [
      "\n",
      "Player 1's (X) turn.\n",
      "\n",
      "   |   |   \n",
      " 7 | 8 | 9 \n",
      "   |   |   \n",
      "-----------\n",
      "   |   |   \n",
      " 4 | 5 | 6 \n",
      "   |   |   \n",
      "-----------\n",
      "   |   |   \n",
      " 1 | 2 | 3 \n",
      "   |   |   \n"
     ]
    },
    {
     "name": "stdin",
     "output_type": "stream",
     "text": [
      "\n",
      "Player 1 (X): Choose your position: (1-9)  1\n"
     ]
    },
    {
     "name": "stdout",
     "output_type": "stream",
     "text": [
      "\n",
      "Player 2's (O) turn.\n",
      "\n",
      "   |   |   \n",
      " 7 | 8 | 9 \n",
      "   |   |   \n",
      "-----------\n",
      "   |   |   \n",
      " 4 | 5 | 6 \n",
      "   |   |   \n",
      "-----------\n",
      "   |   |   \n",
      " X | 2 | 3 \n",
      "   |   |   \n"
     ]
    },
    {
     "name": "stdin",
     "output_type": "stream",
     "text": [
      "\n",
      "Player 2 (O): Choose your position: (1-9)  2\n"
     ]
    },
    {
     "name": "stdout",
     "output_type": "stream",
     "text": [
      "\n",
      "Player 1's (X) turn.\n",
      "\n",
      "   |   |   \n",
      " 7 | 8 | 9 \n",
      "   |   |   \n",
      "-----------\n",
      "   |   |   \n",
      " 4 | 5 | 6 \n",
      "   |   |   \n",
      "-----------\n",
      "   |   |   \n",
      " X | O | 3 \n",
      "   |   |   \n"
     ]
    },
    {
     "name": "stdin",
     "output_type": "stream",
     "text": [
      "\n",
      "Player 1 (X): Choose your position: (1-9)  4\n"
     ]
    },
    {
     "name": "stdout",
     "output_type": "stream",
     "text": [
      "\n",
      "Player 2's (O) turn.\n",
      "\n",
      "   |   |   \n",
      " 7 | 8 | 9 \n",
      "   |   |   \n",
      "-----------\n",
      "   |   |   \n",
      " X | 5 | 6 \n",
      "   |   |   \n",
      "-----------\n",
      "   |   |   \n",
      " X | O | 3 \n",
      "   |   |   \n"
     ]
    },
    {
     "name": "stdin",
     "output_type": "stream",
     "text": [
      "\n",
      "Player 2 (O): Choose your position: (1-9)  5\n"
     ]
    },
    {
     "name": "stdout",
     "output_type": "stream",
     "text": [
      "\n",
      "Player 1's (X) turn.\n",
      "\n",
      "   |   |   \n",
      " 7 | 8 | 9 \n",
      "   |   |   \n",
      "-----------\n",
      "   |   |   \n",
      " X | O | 6 \n",
      "   |   |   \n",
      "-----------\n",
      "   |   |   \n",
      " X | O | 3 \n",
      "   |   |   \n"
     ]
    },
    {
     "name": "stdin",
     "output_type": "stream",
     "text": [
      "\n",
      "Player 1 (X): Choose your position: (1-9)  8\n"
     ]
    },
    {
     "name": "stdout",
     "output_type": "stream",
     "text": [
      "\n",
      "Player 2's (O) turn.\n",
      "\n",
      "   |   |   \n",
      " 7 | X | 9 \n",
      "   |   |   \n",
      "-----------\n",
      "   |   |   \n",
      " X | O | 6 \n",
      "   |   |   \n",
      "-----------\n",
      "   |   |   \n",
      " X | O | 3 \n",
      "   |   |   \n"
     ]
    },
    {
     "name": "stdin",
     "output_type": "stream",
     "text": [
      "\n",
      "Player 2 (O): Choose your position: (1-9)  7\n"
     ]
    },
    {
     "name": "stdout",
     "output_type": "stream",
     "text": [
      "\n",
      "Player 1's (X) turn.\n",
      "\n",
      "   |   |   \n",
      " O | X | 9 \n",
      "   |   |   \n",
      "-----------\n",
      "   |   |   \n",
      " X | O | 6 \n",
      "   |   |   \n",
      "-----------\n",
      "   |   |   \n",
      " X | O | 3 \n",
      "   |   |   \n"
     ]
    },
    {
     "name": "stdin",
     "output_type": "stream",
     "text": [
      "\n",
      "Player 1 (X): Choose your position: (1-9)  6\n"
     ]
    },
    {
     "name": "stdout",
     "output_type": "stream",
     "text": [
      "\n",
      "Player 2's (O) turn.\n",
      "\n",
      "   |   |   \n",
      " O | X | 9 \n",
      "   |   |   \n",
      "-----------\n",
      "   |   |   \n",
      " X | O | X \n",
      "   |   |   \n",
      "-----------\n",
      "   |   |   \n",
      " X | O | 3 \n",
      "   |   |   \n"
     ]
    },
    {
     "name": "stdin",
     "output_type": "stream",
     "text": [
      "\n",
      "Player 2 (O): Choose your position: (1-9)  3\n"
     ]
    },
    {
     "name": "stdout",
     "output_type": "stream",
     "text": [
      "\n",
      "   |   |   \n",
      " O | X | 9 \n",
      "   |   |   \n",
      "-----------\n",
      "   |   |   \n",
      " X | O | X \n",
      "   |   |   \n",
      "-----------\n",
      "   |   |   \n",
      " X | O | O \n",
      "   |   |   \n",
      "\n",
      "Congrulatulations! Player 2 has won!\n"
     ]
    },
    {
     "name": "stdin",
     "output_type": "stream",
     "text": [
      "\n",
      "Do you want to play again? Yes or No? n\n"
     ]
    },
    {
     "name": "stdout",
     "output_type": "stream",
     "text": [
      "\n",
      "Thanks for playing.\n"
     ]
    }
   ],
   "source": [
    "def win_control(t):\n",
    "    \"\"\"\n",
    "    This function checks the win condition which is whether all the elements in any \n",
    "    of the row or column or diagonal are the same.\n",
    "    \"\"\"    \n",
    "    return  ((list(t)[14]  == list(t)[18]  == list(t)[22]) or\n",
    "            (list(t)[62]  == list(t)[66]  == list(t)[70]) or\n",
    "            (list(t)[110] == list(t)[114] == list(t)[118]) or\n",
    "            (list(t)[14]  == list(t)[62]  == list(t)[110]) or\n",
    "            (list(t)[18]  == list(t)[66]  == list(t)[114]) or\n",
    "            (list(t)[22]  == list(t)[70]  == list(t)[118]) or\n",
    "            (list(t)[14]  == list(t)[66]  == list(t)[118]) or\n",
    "            (list(t)[22]  == list(t)[66]  == list(t)[110]))\n",
    "\n",
    "def cell_control(p):\n",
    "    \"\"\"\n",
    "    This function checks whether the current cell is played or not.\n",
    "    \"\"\"    \n",
    "    return  ((p == \"7\" and list(board)[14]  in [\"X\", \"O\"]) or\n",
    "            (p == \"8\" and list(board)[18]  in [\"X\", \"O\"]) or\n",
    "            (p == \"9\" and list(board)[22]  in [\"X\", \"O\"]) or\n",
    "            (p == \"4\" and list(board)[62]  in [\"X\", \"O\"]) or\n",
    "            (p == \"5\" and list(board)[66]  in [\"X\", \"O\"]) or\n",
    "            (p == \"6\" and list(board)[70]  in [\"X\", \"O\"]) or\n",
    "            (p == \"1\" and list(board)[110] in [\"X\", \"O\"]) or\n",
    "            (p == \"2\" and list(board)[114] in [\"X\", \"O\"]) or\n",
    "            (p == \"3\" and list(board)[118] in [\"X\", \"O\"]))\n",
    "\n",
    "def char_control(p):\n",
    "    \"\"\"\n",
    "    This function checks whether the input character is a numeric between 1-9 or not.\n",
    "    \"\"\"    \n",
    "    return p in [\"1\", \"2\", \"3\", \"4\", \"5\", \"6\", \"7\", \"8\", \"9\"]\n",
    "\n",
    "def replay():\n",
    "    \"\"\"\n",
    "    This function asks for a replay.\n",
    "    \"\"\"    \n",
    "    again = input(\"\\nDo you want to play again? Yes or No?\")    \n",
    "    return again[0].upper() == \"Y\"\n",
    "\n",
    "while True:\n",
    "    print(\"\\nWelcome to Tic Tac Toe!\")\n",
    "\n",
    "    # Which player will play the first is randomized.\n",
    "    from random import randint\n",
    "    player_idx = randint(0, 1) \n",
    "    player_number = [\"1\", \"2\"][player_idx % 2]\n",
    "    obj = input(f\"Player {player_number}: Do you want to be X or O? \")\n",
    "\n",
    "    if obj.upper() == \"X\" or obj.upper() == \"O\":\n",
    "        # This finds the corresponding index of the input object in the list [\"X\", \"0\"] \n",
    "        # in order to be referenced and iterated in the while loop.\n",
    "        obj_idx = list(enumerate([\"X\", \"O\"]))[obj.upper() == list(enumerate([\"X\", \"O\"]))[1][1]][0]\n",
    "\n",
    "        # Initialize the board  \n",
    "        board = (  \"\\n   |   |   \"\n",
    "                 + \"\\n 7 | 8 | 9 \"\n",
    "                 + \"\\n   |   |   \"\n",
    "                 + \"\\n-----------\"\n",
    "                 + \"\\n   |   |   \"\n",
    "                 + \"\\n 4 | 5 | 6 \"\n",
    "                 + \"\\n   |   |   \"\n",
    "                 + \"\\n-----------\"\n",
    "                 + \"\\n   |   |   \"\n",
    "                 + \"\\n 1 | 2 | 3 \"\n",
    "                 + \"\\n   |   |   \")\n",
    "\n",
    "        # Initialize the turncount(max number of turns is 9)\n",
    "        turn_count = 0\n",
    "        \n",
    "        while True:             \n",
    "            # Position dictionary for inserting X\" and \"O\" into the board. The dictionary is updated each loop.\n",
    "            posdict = { obj.upper() + \"7\":list(board)[:14]  + [obj.upper()] + list(board)[15:]\n",
    "                       ,obj.upper() + \"8\":list(board)[:18]  + [obj.upper()] + list(board)[19:]\n",
    "                       ,obj.upper() + \"9\":list(board)[:22]  + [obj.upper()] + list(board)[23:]\n",
    "                       ,obj.upper() + \"4\":list(board)[:62]  + [obj.upper()] + list(board)[63:]\n",
    "                       ,obj.upper() + \"5\":list(board)[:66]  + [obj.upper()] + list(board)[67:]\n",
    "                       ,obj.upper() + \"6\":list(board)[:70]  + [obj.upper()] + list(board)[71:]\n",
    "                       ,obj.upper() + \"1\":list(board)[:110] + [obj.upper()] + list(board)[111:]\n",
    "                       ,obj.upper() + \"2\":list(board)[:114] + [obj.upper()] + list(board)[115:]\n",
    "                       ,obj.upper() + \"3\":list(board)[:118] + [obj.upper()] + list(board)[119:]}\n",
    "\n",
    "            # Win condition check.\n",
    "            if  win_control(board):\n",
    "                print(board)\n",
    "                print(f\"\\nCongrulatulations! Player {player_number} has won!\")\n",
    "                break\n",
    "\n",
    "            # Max number of turns condition check            \n",
    "            if turn_count == 9:\n",
    "                print(board)\n",
    "                print(\"\\nThe game is a tie!\")\n",
    "                break\n",
    "\n",
    "            # Play condition           \n",
    "            else:\n",
    "                player_number = [\"1\", \"2\"][player_idx % 2]\n",
    "                print(f\"\\nPlayer {player_number}'s ({obj.upper()}) turn.\")\n",
    "                print(board)\n",
    "                pos = input(f\"\\nPlayer {player_number} ({obj.upper()}): Choose your position: (1-9) \")\n",
    "\n",
    "                # Cell check, whether it is played before or not.                      \n",
    "                if cell_control(pos):\n",
    "                    print(\"\\nThis position is already played! Please select another one.\")\n",
    "                    continue\n",
    "\n",
    "                # Character check, whether the input character is a numeric or not.                 \n",
    "                if char_control(pos):\n",
    "                    board = \"\".join(posdict[obj.upper() + pos])\n",
    "                    player_idx += 1\n",
    "                    turn_count += 1\n",
    "                    obj_idx += 1\n",
    "                    obj = [\"X\", \"O\"][obj_idx % 2]\n",
    "                    \n",
    "                else:\n",
    "                    print(\"\\nPlease enter a numerical value between 1-9.\")\n",
    "                    continue\n",
    "    else:        \n",
    "        print(\"\\nPlease enter X or O.\")        \n",
    "        continue\n",
    "        \n",
    "    if not replay():        \n",
    "        print(\"\\nThanks for playing.\")        \n",
    "        break"
   ]
  },
  {
   "cell_type": "code",
   "execution_count": null,
   "metadata": {},
   "outputs": [],
   "source": []
  }
 ],
 "metadata": {
  "kernelspec": {
   "display_name": "Python 3",
   "language": "python",
   "name": "python3"
  },
  "language_info": {
   "codemirror_mode": {
    "name": "ipython",
    "version": 3
   },
   "file_extension": ".py",
   "mimetype": "text/x-python",
   "name": "python",
   "nbconvert_exporter": "python",
   "pygments_lexer": "ipython3",
   "version": "3.7.3"
  }
 },
 "nbformat": 4,
 "nbformat_minor": 2
}
