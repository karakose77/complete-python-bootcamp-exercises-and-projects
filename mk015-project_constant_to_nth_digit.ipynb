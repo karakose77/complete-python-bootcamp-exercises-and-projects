{
 "cells": [
  {
   "cell_type": "markdown",
   "metadata": {},
   "source": [
    "### \"pi\" and \"e\" Calculator\n",
    "Calculate \"pi\" and \"e\" constants to \"n\" digits."
   ]
  },
  {
   "cell_type": "code",
   "execution_count": 13,
   "metadata": {},
   "outputs": [],
   "source": [
    "from functools import reduce"
   ]
  },
  {
   "cell_type": "code",
   "execution_count": 14,
   "metadata": {},
   "outputs": [],
   "source": [
    "def constants_to_n_digits(constant, digit_count):\n",
    "    # Gauss-Legendre Algorithm for pi #\n",
    "    if constant == \"pi\":\n",
    "        a = 1\n",
    "        b = 1 / 2**0.5\n",
    "        t = 1 / 4\n",
    "        p = 1\n",
    "        for i in range(0, 100):\n",
    "            a, b, p, t = (a + b) / 2, (a * b)**0.5, 2 * p, t - p * (a - (a + b) / 2)**2\n",
    "        return round((a + b)**2 / (4 * t), digit_count)\n",
    "    # Infinite series sum for e #\n",
    "    if constant == \"e\":\n",
    "        d = 2        \n",
    "        for i in range(3, 100):            \n",
    "            d += 1/reduce(lambda x, y: x * y, list(range(1, i)))            \n",
    "        return round(d, digit_count)"
   ]
  },
  {
   "cell_type": "code",
   "execution_count": 15,
   "metadata": {},
   "outputs": [
    {
     "data": {
      "text/plain": [
       "3.14159"
      ]
     },
     "execution_count": 15,
     "metadata": {},
     "output_type": "execute_result"
    }
   ],
   "source": [
    "constants_to_n_digits(\"pi\", 5)"
   ]
  },
  {
   "cell_type": "code",
   "execution_count": 16,
   "metadata": {},
   "outputs": [
    {
     "data": {
      "text/plain": [
       "2.71828183"
      ]
     },
     "execution_count": 16,
     "metadata": {},
     "output_type": "execute_result"
    }
   ],
   "source": [
    "constants_to_n_digits(\"e\", 8)"
   ]
  },
  {
   "cell_type": "code",
   "execution_count": null,
   "metadata": {},
   "outputs": [],
   "source": []
  }
 ],
 "metadata": {
  "kernelspec": {
   "display_name": "Python 3",
   "language": "python",
   "name": "python3"
  },
  "language_info": {
   "codemirror_mode": {
    "name": "ipython",
    "version": 3
   },
   "file_extension": ".py",
   "mimetype": "text/x-python",
   "name": "python",
   "nbconvert_exporter": "python",
   "pygments_lexer": "ipython3",
   "version": "3.7.3"
  }
 },
 "nbformat": 4,
 "nbformat_minor": 4
}
