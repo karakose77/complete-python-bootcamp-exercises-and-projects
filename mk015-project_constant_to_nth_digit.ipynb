{
 "cells": [
  {
   "cell_type": "markdown",
   "metadata": {},
   "source": [
    "### \"pi\" and \"e\" Calculator\n",
    "Calculate \"pi\" and \"e\" constants to \"n\" digits."
   ]
  },
  {
   "cell_type": "code",
   "execution_count": 1,
   "metadata": {},
   "outputs": [],
   "source": [
    "from functools import reduce\n",
    "\n",
    "def cons_n_digits(c, n):\n",
    "    # Gauss-Legendre Algorithm for pi #\n",
    "    if c == \"pi\":\n",
    "        a = 1\n",
    "        b = 1 / 2**0.5\n",
    "        t = 1 / 4\n",
    "        p = 1\n",
    "\n",
    "        for i in range(0, 100):\n",
    "            a, b, p, t = (a + b) / 2, (a * b)**0.5, 2 * p, t - p * (a - (a + b) / 2)**2\n",
    "\n",
    "        return round((a + b)**2 / (4 * t), n)\n",
    "    # Infinite series sum for e #\n",
    "    elif c == \"e\":\n",
    "        d = 2\n",
    "        \n",
    "        for i in range(3, 100):            \n",
    "            d += 1/reduce(lambda x, y: x * y, list(range(1, i)))\n",
    "            \n",
    "        return round(d, n)"
   ]
  },
  {
   "cell_type": "code",
   "execution_count": 4,
   "metadata": {},
   "outputs": [
    {
     "data": {
      "text/plain": [
       "3.141592653589794"
      ]
     },
     "execution_count": 4,
     "metadata": {},
     "output_type": "execute_result"
    }
   ],
   "source": [
    "cons_n_digits(\"pi\", 20)"
   ]
  },
  {
   "cell_type": "code",
   "execution_count": 5,
   "metadata": {},
   "outputs": [
    {
     "data": {
      "text/plain": [
       "2.7182818284590455"
      ]
     },
     "execution_count": 5,
     "metadata": {},
     "output_type": "execute_result"
    }
   ],
   "source": [
    "cons_n_digits(\"e\", 20)"
   ]
  },
  {
   "cell_type": "code",
   "execution_count": null,
   "metadata": {},
   "outputs": [],
   "source": []
  }
 ],
 "metadata": {
  "kernelspec": {
   "display_name": "Python 3",
   "language": "python",
   "name": "python3"
  },
  "language_info": {
   "codemirror_mode": {
    "name": "ipython",
    "version": 3
   },
   "file_extension": ".py",
   "mimetype": "text/x-python",
   "name": "python",
   "nbconvert_exporter": "python",
   "pygments_lexer": "ipython3",
   "version": "3.7.3"
  }
 },
 "nbformat": 4,
 "nbformat_minor": 2
}
