{
 "cells": [
  {
   "cell_type": "markdown",
   "metadata": {},
   "source": [
    "### Prime Factorization\n",
    "Enter a number and display all prime factors of that numbers."
   ]
  },
  {
   "cell_type": "code",
   "execution_count": 24,
   "metadata": {},
   "outputs": [],
   "source": [
    "def prime_factorify(number):\n",
    "    \"\"\"\n",
    "    Returns a list of tuples where the first numbers of the tuples are the prime factors and the second \n",
    "    ones are the power of that factors of the given number.\n",
    "    \"\"\"\n",
    "    prime_factors_to_the_powers = []\n",
    "\n",
    "    for n in range(2, round(number/2) + 1): \n",
    "        power_count = 0\n",
    "        while number%n == 0:\n",
    "            power_count += 1\n",
    "            number = number / n\n",
    "        if power_count != 0:\n",
    "            prime_factors_to_the_powers.append((n, power_count)) \n",
    "\n",
    "    return (prime_factors_to_the_powers * (len(prime_factors_to_the_powers) != 0) + \n",
    "            [(number, 1)] * (len(prime_factors_to_the_powers) == 0))"
   ]
  },
  {
   "cell_type": "code",
   "execution_count": 25,
   "metadata": {},
   "outputs": [
    {
     "data": {
      "text/plain": [
       "[(17, 1), (59, 1)]"
      ]
     },
     "execution_count": 25,
     "metadata": {},
     "output_type": "execute_result"
    }
   ],
   "source": [
    "prime_factorify(1003)"
   ]
  },
  {
   "cell_type": "code",
   "execution_count": null,
   "metadata": {},
   "outputs": [],
   "source": []
  }
 ],
 "metadata": {
  "kernelspec": {
   "display_name": "Python 3",
   "language": "python",
   "name": "python3"
  },
  "language_info": {
   "codemirror_mode": {
    "name": "ipython",
    "version": 3
   },
   "file_extension": ".py",
   "mimetype": "text/x-python",
   "name": "python",
   "nbconvert_exporter": "python",
   "pygments_lexer": "ipython3",
   "version": "3.6.8"
  }
 },
 "nbformat": 4,
 "nbformat_minor": 2
}
