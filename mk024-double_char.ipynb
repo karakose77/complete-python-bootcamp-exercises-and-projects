{
  "cells": [
    {
      "cell_type": "code",
      "source": [
        "# Given a string, return a string where \n",
        "# for every char in the original there are two.\n",
        "\n",
        "# double_char('The') → 'TThhee'\n",
        "# double_char('AAbb') → 'AAAAbbbb'\n",
        "# double_char('Hi-There') → 'HHii--TThheerree'\n",
        "\n",
        "\n",
        "def double_char(str):\n",
        "  return \"\".join([char*2 for char in str])\n",
        "\n",
        "\n",
        "print(double_char('The'))\n",
        "print(double_char('AAbb'))\n",
        "print(double_char('Hi-There'))"
      ],
      "outputs": [
        {
          "output_type": "stream",
          "name": "stdout",
          "text": [
            "TThhee\n",
            "AAAAbbbb\n",
            "HHii--TThheerree\n"
          ]
        }
      ],
      "execution_count": 1,
      "metadata": {
        "collapsed": false,
        "outputHidden": false,
        "inputHidden": false
      }
    },
    {
      "cell_type": "code",
      "source": [],
      "outputs": [],
      "execution_count": null,
      "metadata": {
        "collapsed": false,
        "outputHidden": false,
        "inputHidden": false
      }
    }
  ],
  "metadata": {
    "kernel_info": {
      "name": "python3"
    },
    "language_info": {
      "name": "python",
      "version": "3.6.8",
      "mimetype": "text/x-python",
      "codemirror_mode": {
        "name": "ipython",
        "version": 3
      },
      "pygments_lexer": "ipython3",
      "nbconvert_exporter": "python",
      "file_extension": ".py"
    },
    "kernelspec": {
      "name": "python3",
      "language": "python",
      "display_name": "Python 3"
    },
    "nteract": {
      "version": "0.14.2"
    }
  },
  "nbformat": 4,
  "nbformat_minor": 0
}