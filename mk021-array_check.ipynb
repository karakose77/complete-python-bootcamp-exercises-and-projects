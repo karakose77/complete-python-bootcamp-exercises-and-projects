{
  "cells": [
    {
      "cell_type": "code",
      "source": [
        "# Given a list of integers, return True if the \n",
        "# sequence of numbers 1, 2, 3 appears in the list somewhere.\n",
        "\n",
        "# For example:\n",
        "# array_check([1, 1, 2, 3, 1]) → True\n",
        "# array_check([1, 1, 2, 4, 1]) → False\n",
        "# array_check([1, 1, 2, 1, 2, 3]) → True\n",
        "\n",
        "\n",
        "def array_check(nums):\n",
        "    slist = list(set(nums))\n",
        "    if 1 in slist and 2 in slist and 3 in slist:\n",
        "        return slist.index(1) < slist.index(2) and slist.index(2) < slist.index(3)\n",
        "    else:\n",
        "        return False\n",
        "      \n",
        "\n",
        "print(array_check([1, 1, 2, 3, 1]))\n",
        "print(array_check([1, 1, 2, 4, 1]))\n",
        "print(array_check([1, 1, 2, 1, 2, 3]))"
      ],
      "outputs": [
        {
          "output_type": "stream",
          "name": "stdout",
          "text": [
            "True\n",
            "False\n",
            "True\n"
          ]
        }
      ],
      "execution_count": 2,
      "metadata": {
        "collapsed": false,
        "outputHidden": false,
        "inputHidden": false
      }
    },
    {
      "cell_type": "code",
      "source": [],
      "outputs": [],
      "execution_count": null,
      "metadata": {
        "collapsed": false,
        "outputHidden": false,
        "inputHidden": false
      }
    }
  ],
  "metadata": {
    "kernel_info": {
      "name": "python3"
    },
    "language_info": {
      "name": "python",
      "version": "3.6.8",
      "mimetype": "text/x-python",
      "codemirror_mode": {
        "name": "ipython",
        "version": 3
      },
      "pygments_lexer": "ipython3",
      "nbconvert_exporter": "python",
      "file_extension": ".py"
    },
    "kernelspec": {
      "name": "python3",
      "language": "python",
      "display_name": "Python 3"
    },
    "nteract": {
      "version": "0.14.2"
    }
  },
  "nbformat": 4,
  "nbformat_minor": 0
}