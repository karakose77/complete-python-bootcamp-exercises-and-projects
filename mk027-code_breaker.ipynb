{
 "cells": [
  {
   "cell_type": "markdown",
   "metadata": {},
   "source": [
    "# CODEBREAKER\n",
    "\n",
    "The computer will think of 3 digit number that has no repeating digits.\n",
    "\n",
    "* You will then guess a 3 digit number. \n",
    "* The computer will then give back clues.\n",
    "* Based on these clues you will guess again until you break the code with a match!\n",
    "* The possible clues are:  \n",
    "    Close: You've guessed a correct number but in the wrong position.  \n",
    "    Match: You've guessed a correct number in the correct position.  \n",
    "    Nope: You haven't guess any of the numbers correctly.  "
   ]
  },
  {
   "cell_type": "markdown",
   "metadata": {},
   "source": [
    "## Imports"
   ]
  },
  {
   "cell_type": "code",
   "execution_count": 19,
   "metadata": {},
   "outputs": [],
   "source": [
    "import random"
   ]
  },
  {
   "cell_type": "markdown",
   "metadata": {},
   "source": [
    "## Function Definitions"
   ]
  },
  {
   "cell_type": "code",
   "execution_count": 20,
   "metadata": {},
   "outputs": [],
   "source": [
    "def generate_random_number():\n",
    "    \"\"\"\n",
    "    Generates a three digit random number that has no repeating digits.\n",
    "    \"\"\"\n",
    "    digit_list = list(range(0, 10))\n",
    "    rand_num = \"\"\n",
    "    i = 0\n",
    "    while i < 3:\n",
    "        digit = random.choice(digit_list)\n",
    "        if i == 0 and digit == 0:\n",
    "            continue\n",
    "        i += 1            \n",
    "        rand_num += str(digit)\n",
    "        digit_list.remove(digit)\n",
    "    return rand_num"
   ]
  },
  {
   "cell_type": "code",
   "execution_count": 21,
   "metadata": {},
   "outputs": [],
   "source": [
    "def compare_numbers(num):\n",
    "    \"\"\"\n",
    "    Compares random number with the user guessed number and returns\n",
    "    the 'close' and 'match' counts as a tuple.\n",
    "    \"\"\"\n",
    "    close = 0\n",
    "    match = 0\n",
    "    for i, n in enumerate(num):\n",
    "        if n == rand_num[i]:\n",
    "            match += 1\n",
    "        elif n in rand_num:\n",
    "            close += 1\n",
    "        else:\n",
    "            continue\n",
    "    return close, match"
   ]
  },
  {
   "cell_type": "code",
   "execution_count": 22,
   "metadata": {},
   "outputs": [],
   "source": [
    "def win_check(num):\n",
    "    \"\"\"\n",
    "    Checks whether the '(close, match)' tuple satisfies the win condition and\n",
    "    returns the corresponding boolean value.\n",
    "    \"\"\"\n",
    "    print(\"(Close, Match) = \", compare_numbers(num))\n",
    "    return compare_numbers(num) == (0, 3)"
   ]
  },
  {
   "cell_type": "code",
   "execution_count": 23,
   "metadata": {
    "collapsed": false,
    "inputHidden": false,
    "jupyter": {
     "outputs_hidden": false
    },
    "outputHidden": false
   },
   "outputs": [],
   "source": [
    "def replay():\n",
    "    \"\"\"\n",
    "    Returns replay question.\n",
    "    \"\"\"\n",
    "    return input(\"Do you want to play again?(y/n)\")"
   ]
  },
  {
   "cell_type": "code",
   "execution_count": 24,
   "metadata": {
    "collapsed": false,
    "inputHidden": false,
    "jupyter": {
     "outputs_hidden": false
    },
    "outputHidden": false
   },
   "outputs": [
    {
     "name": "stdout",
     "output_type": "stream",
     "text": [
      "Welcome to Codebreaker! The rules are as follows:\n",
      "Close: You've guessed a correct number but in the wrong position.\n",
      "Match: You've guessed a correct number in the correct position.\n",
      "Random 3 digit number is generated. Good luck!\n"
     ]
    },
    {
     "name": "stdin",
     "output_type": "stream",
     "text": [
      "Enter your guess:  1234\n"
     ]
    },
    {
     "name": "stdout",
     "output_type": "stream",
     "text": [
      "You have to enter a 3 digit number!\n"
     ]
    },
    {
     "name": "stdin",
     "output_type": "stream",
     "text": [
      "Do you want to play again?(y/n) y\n",
      "Enter your guess:  123\n"
     ]
    },
    {
     "name": "stdout",
     "output_type": "stream",
     "text": [
      "(Close, Match) =  (0, 0)\n"
     ]
    },
    {
     "name": "stdin",
     "output_type": "stream",
     "text": [
      "Enter your guess:  n\n"
     ]
    },
    {
     "name": "stdout",
     "output_type": "stream",
     "text": [
      "(Close, Match) =  (0, 0)\n"
     ]
    },
    {
     "name": "stdin",
     "output_type": "stream",
     "text": [
      "Enter your guess:  n\n"
     ]
    },
    {
     "name": "stdout",
     "output_type": "stream",
     "text": [
      "(Close, Match) =  (0, 0)\n"
     ]
    },
    {
     "name": "stdin",
     "output_type": "stream",
     "text": [
      "Enter your guess:  456\n"
     ]
    },
    {
     "name": "stdout",
     "output_type": "stream",
     "text": [
      "(Close, Match) =  (2, 0)\n"
     ]
    },
    {
     "name": "stdin",
     "output_type": "stream",
     "text": [
      "Enter your guess:  789\n"
     ]
    },
    {
     "name": "stdout",
     "output_type": "stream",
     "text": [
      "(Close, Match) =  (0, 1)\n"
     ]
    },
    {
     "name": "stdin",
     "output_type": "stream",
     "text": [
      "Enter your guess:  709\n"
     ]
    },
    {
     "name": "stdout",
     "output_type": "stream",
     "text": [
      "(Close, Match) =  (0, 0)\n"
     ]
    },
    {
     "name": "stdin",
     "output_type": "stream",
     "text": [
      "Enter your guess:  684\n"
     ]
    },
    {
     "name": "stdout",
     "output_type": "stream",
     "text": [
      "(Close, Match) =  (0, 3)\n",
      "You guessed correctly in 7 moves!\n"
     ]
    },
    {
     "name": "stdin",
     "output_type": "stream",
     "text": [
      "Do you want to play again?(y/n) n\n"
     ]
    },
    {
     "name": "stdout",
     "output_type": "stream",
     "text": [
      "Thank you for playing...\n"
     ]
    }
   ],
   "source": [
    "print(\"Welcome to Codebreaker! The rules are as follows:\")\n",
    "print(\"Close: You've guessed a correct number but in the wrong position.\")\n",
    "print(\"Match: You've guessed a correct number in the correct position.\")\n",
    "rand_num = generate_random_number()\n",
    "print(\"Random 3 digit number is generated. Good luck!\")\n",
    "again = \"y\"\n",
    "\n",
    "while again == \"y\":\n",
    "    result = False\n",
    "    moves = 0\n",
    "    while result is False:\n",
    "        num = input(\"Enter your guess: \")\n",
    "        try:\n",
    "            result = win_check(num)\n",
    "            moves += 1\n",
    "        except IndexError:\n",
    "            print(\"You have to enter a 3 digit number!\")\n",
    "            break\n",
    "    else:\n",
    "        print(f\"You guessed correctly in {moves} moves!\")\n",
    "    again = replay()\n",
    "else:\n",
    "    print(\"Thank you for playing...\")"
   ]
  },
  {
   "cell_type": "code",
   "execution_count": null,
   "metadata": {
    "collapsed": false,
    "inputHidden": false,
    "jupyter": {
     "outputs_hidden": false
    },
    "outputHidden": false
   },
   "outputs": [],
   "source": []
  }
 ],
 "metadata": {
  "kernel_info": {
   "name": "python3"
  },
  "kernelspec": {
   "display_name": "Python 3",
   "language": "python",
   "name": "python3"
  },
  "language_info": {
   "codemirror_mode": {
    "name": "ipython",
    "version": 3
   },
   "file_extension": ".py",
   "mimetype": "text/x-python",
   "name": "python",
   "nbconvert_exporter": "python",
   "pygments_lexer": "ipython3",
   "version": "3.7.3"
  },
  "nteract": {
   "version": "0.14.2"
  }
 },
 "nbformat": 4,
 "nbformat_minor": 4
}
