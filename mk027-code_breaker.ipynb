{
 "cells": [
  {
   "cell_type": "markdown",
   "metadata": {},
   "source": [
    "# CODEBREAKER\n",
    "\n",
    "The computer will think of 3 digit number that has no repeating digits.\n",
    "\n",
    "* You will then guess a 3 digit number. \n",
    "* The computer will then give back clues.\n",
    "* Based on these clues you will guess again until you break the code with a match!\n",
    "* The possible clues are:  \n",
    "    Close: You've guessed a correct number but in the wrong position.  \n",
    "    Match: You've guessed a correct number in the correct position.  \n",
    "    Nope: You haven't guess any of the numbers correctly.  "
   ]
  },
  {
   "cell_type": "code",
   "execution_count": 1,
   "metadata": {
    "collapsed": false,
    "inputHidden": false,
    "outputHidden": false
   },
   "outputs": [],
   "source": [
    "import random\n",
    "\n",
    "\n",
    "def generate_random_number():\n",
    "    \"\"\"\n",
    "    Generates a three digit random number that has no repeating digits.\n",
    "    \"\"\"\n",
    "    digit_list = list(range(0, 10))\n",
    "    rand_num = []\n",
    "    for i in range(3):\n",
    "        digit = random.choice(digit_list)\n",
    "        rand_num.append(str(digit))\n",
    "        digit_list.remove(digit)\n",
    "    if list(rand_num)[0] == \"0\":\n",
    "        rand_num[:] = rand_num[-1:] + rand_num[:-1]\n",
    "    return \"\".join(list(rand_num))\n",
    "\n",
    "\n",
    "def compare_numbers(num):\n",
    "    \"\"\"\n",
    "    Compares random number with the user guessed number and returns\n",
    "    the 'close' and 'match' counts as a tuple.\n",
    "    \"\"\"\n",
    "    close = 0\n",
    "    match = 0\n",
    "    for i, n in enumerate(str(num)):\n",
    "        if n == rand_num[i]:\n",
    "            match += 1\n",
    "        elif n in rand_num:\n",
    "            close += 1\n",
    "        else:\n",
    "            continue\n",
    "    return close, match\n",
    "\n",
    "\n",
    "def win_check(num):\n",
    "    \"\"\"\n",
    "    Checks whether the '(close, match)' tuple satisfies the win condition and\n",
    "    returns the corresponding boolean value.\n",
    "    \"\"\"\n",
    "    print(\"(Close, Match) = \", compare_numbers(num))\n",
    "    return compare_numbers(num) == (0, 3)\n",
    "\n",
    "\n",
    "def replay():\n",
    "    \"\"\"\n",
    "    Returns replay condition.\n",
    "    \"\"\"\n",
    "    return input(\"Do you want to play again?(y/n)\")"
   ]
  },
  {
   "cell_type": "code",
   "execution_count": 2,
   "metadata": {
    "collapsed": false,
    "inputHidden": false,
    "outputHidden": false
   },
   "outputs": [
    {
     "name": "stdout",
     "output_type": "stream",
     "text": [
      "Welcome to Codebreaker! The rules are as follows:\n",
      "Close: You've guessed a correct number but in the wrong position\n",
      "Match: You've guessed a correct number in the correct position.\n",
      "Random number is generated. Good luck!\n"
     ]
    },
    {
     "name": "stdin",
     "output_type": "stream",
     "text": [
      "Enter your guess:  345\n"
     ]
    },
    {
     "name": "stdout",
     "output_type": "stream",
     "text": [
      "(Close, Match) =  (1, 1)\n"
     ]
    },
    {
     "name": "stdin",
     "output_type": "stream",
     "text": [
      "Enter your guess:  126\n"
     ]
    },
    {
     "name": "stdout",
     "output_type": "stream",
     "text": [
      "(Close, Match) =  (0, 0)\n"
     ]
    },
    {
     "name": "stdin",
     "output_type": "stream",
     "text": [
      "Enter your guess:  q\n"
     ]
    },
    {
     "name": "stdout",
     "output_type": "stream",
     "text": [
      "(Close, Match) =  (0, 0)\n"
     ]
    },
    {
     "name": "stdin",
     "output_type": "stream",
     "text": [
      "Enter your guess:  789\n"
     ]
    },
    {
     "name": "stdout",
     "output_type": "stream",
     "text": [
      "(Close, Match) =  (0, 1)\n"
     ]
    },
    {
     "name": "stdin",
     "output_type": "stream",
     "text": [
      "Enter your guess:  347\n"
     ]
    },
    {
     "name": "stdout",
     "output_type": "stream",
     "text": [
      "(Close, Match) =  (0, 1)\n"
     ]
    },
    {
     "name": "stdin",
     "output_type": "stream",
     "text": [
      "Enter your guess:  127\n"
     ]
    },
    {
     "name": "stdout",
     "output_type": "stream",
     "text": [
      "(Close, Match) =  (0, 0)\n"
     ]
    },
    {
     "name": "stdin",
     "output_type": "stream",
     "text": [
      "Enter your guess:  357\n"
     ]
    },
    {
     "name": "stdout",
     "output_type": "stream",
     "text": [
      "(Close, Match) =  (0, 2)\n"
     ]
    },
    {
     "name": "stdin",
     "output_type": "stream",
     "text": [
      "Enter your guess:  385\n"
     ]
    },
    {
     "name": "stdout",
     "output_type": "stream",
     "text": [
      "(Close, Match) =  (1, 1)\n"
     ]
    },
    {
     "name": "stdin",
     "output_type": "stream",
     "text": [
      "Enter your guess:  395\n"
     ]
    },
    {
     "name": "stdout",
     "output_type": "stream",
     "text": [
      "(Close, Match) =  (2, 1)\n"
     ]
    },
    {
     "name": "stdin",
     "output_type": "stream",
     "text": [
      "Enter your guess:  539\n"
     ]
    },
    {
     "name": "stdout",
     "output_type": "stream",
     "text": [
      "(Close, Match) =  (2, 1)\n"
     ]
    },
    {
     "name": "stdin",
     "output_type": "stream",
     "text": [
      "Enter your guess:  359\n"
     ]
    },
    {
     "name": "stdout",
     "output_type": "stream",
     "text": [
      "(Close, Match) =  (0, 3)\n",
      "You guessed correctly in 11 moves!\n"
     ]
    },
    {
     "name": "stdin",
     "output_type": "stream",
     "text": [
      "Do you want to play again?(y/n) n\n"
     ]
    },
    {
     "name": "stdout",
     "output_type": "stream",
     "text": [
      "Thank you for playing...\n"
     ]
    }
   ],
   "source": [
    "print(\"Welcome to Codebreaker! The rules are as follows:\")\n",
    "print(\"Close: You've guessed a correct number but in the wrong position\")\n",
    "print(\"Match: You've guessed a correct number in the correct position.\")\n",
    "rand_num = generate_random_number()\n",
    "print(\"Random number is generated. Good luck!\")\n",
    "again = \"y\"\n",
    "\n",
    "while again == \"y\":\n",
    "    result = False\n",
    "    moves = 0\n",
    "    while result is False:\n",
    "        num = input(\"Enter your guess: \")\n",
    "        result = win_check(num)\n",
    "        moves += 1\n",
    "    else:\n",
    "        print(f\"You guessed correctly in {moves} moves!\")\n",
    "    again = replay()\n",
    "else:\n",
    "    print(\"Thank you for playing...\")"
   ]
  },
  {
   "cell_type": "code",
   "execution_count": null,
   "metadata": {
    "collapsed": false,
    "inputHidden": false,
    "outputHidden": false
   },
   "outputs": [],
   "source": []
  }
 ],
 "metadata": {
  "kernel_info": {
   "name": "python3"
  },
  "kernelspec": {
   "display_name": "Python 3",
   "language": "python",
   "name": "python3"
  },
  "language_info": {
   "codemirror_mode": {
    "name": "ipython",
    "version": 3
   },
   "file_extension": ".py",
   "mimetype": "text/x-python",
   "name": "python",
   "nbconvert_exporter": "python",
   "pygments_lexer": "ipython3",
   "version": "3.6.8"
  },
  "nteract": {
   "version": "0.14.2"
  }
 },
 "nbformat": 4,
 "nbformat_minor": 2
}
