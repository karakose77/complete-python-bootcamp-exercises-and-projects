{
  "cells": [
    {
      "cell_type": "code",
      "source": [
        "# Return the number of even integers in the given array.\n",
        "#\n",
        "# Examples:#\n",
        "# count_evens([2, 1, 2, 3, 4]) → 3\n",
        "# count_evens([2, 2, 0]) → 3\n",
        "# count_evens([1, 3, 5]) → 0\n",
        "\n",
        "\n",
        "def count_evens(nums):\n",
        "    return len([num for num in nums if num%2 == 0])\n",
        "  \n",
        "\n",
        "print(count_evens([2, 1, 2, 3, 4]))\n",
        "print(count_evens([2, 2, 0]))\n",
        "print(count_evens([1, 3, 5]))"
      ],
      "outputs": [
        {
          "output_type": "stream",
          "name": "stdout",
          "text": [
            "3\n",
            "3\n",
            "0\n"
          ]
        }
      ],
      "execution_count": 1,
      "metadata": {
        "collapsed": false,
        "outputHidden": false,
        "inputHidden": false
      }
    },
    {
      "cell_type": "code",
      "source": [],
      "outputs": [],
      "execution_count": null,
      "metadata": {
        "collapsed": false,
        "outputHidden": false,
        "inputHidden": false
      }
    }
  ],
  "metadata": {
    "kernel_info": {
      "name": "python3"
    },
    "language_info": {
      "name": "python",
      "version": "3.6.8",
      "mimetype": "text/x-python",
      "codemirror_mode": {
        "name": "ipython",
        "version": 3
      },
      "pygments_lexer": "ipython3",
      "nbconvert_exporter": "python",
      "file_extension": ".py"
    },
    "kernelspec": {
      "name": "python3",
      "language": "python",
      "display_name": "Python 3"
    },
    "nteract": {
      "version": "0.14.2"
    }
  },
  "nbformat": 4,
  "nbformat_minor": 0
}