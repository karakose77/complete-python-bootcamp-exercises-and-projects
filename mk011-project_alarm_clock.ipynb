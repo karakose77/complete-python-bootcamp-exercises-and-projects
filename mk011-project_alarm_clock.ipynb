{
 "cells": [
  {
   "cell_type": "markdown",
   "metadata": {},
   "source": [
    "### Alarm Clock\n",
    "\n",
    "A simple clock where it plays a sound after X number of minutes/seconds or at a particular time."
   ]
  },
  {
   "cell_type": "code",
   "execution_count": null,
   "metadata": {},
   "outputs": [],
   "source": [
    "import time\n",
    "import os"
   ]
  },
  {
   "cell_type": "code",
   "execution_count": 1,
   "metadata": {},
   "outputs": [
    {
     "name": "stdin",
     "output_type": "stream",
     "text": [
      "Do you want to set the alarm at a particular (t)ime or after some time (p)eriod?\n",
      "Please enter 't' or 'p':  p\n",
      "Please enter the time duration before the alarm (h:m):  0:1\n"
     ]
    }
   ],
   "source": [
    "alarm_choice = input(\"Do you want to set the alarm at a particular (t)ime \" + \n",
    "                     \"or after some time (p)eriod?\\nPlease enter 't' or 'p': \")\n",
    "\n",
    "if alarm_choice == \"t\":      \n",
    "    while True:    \n",
    "        alarm_time = input(\"Please enter the alarm time(h:m): \")\n",
    "        current_hour      = int(time.ctime().split(\" \")[3].split(\":\")[0])\n",
    "        current_minute    = int(time.ctime().split(\" \")[3].split(\":\")[1])\n",
    "        alarm_time_hour   = int(alarm_time.split(\":\")[0])\n",
    "        alarm_time_minute = int(alarm_time.split(\":\")[1])\n",
    "        if current_hour * 60 + current_minute < alarm_time_hour * 60 + alarm_time_minute:\n",
    "            time.sleep((alarm_time_hour - current_hour) * 3600 + (alarm_time_minute - current_minute) *60)\n",
    "            os.startfile(\"C:/Users/MK/default.mp3\")\n",
    "            break\n",
    "        else:            \n",
    "            print(\"That time has already come!\")\n",
    "            continue\n",
    "\n",
    "if alarm_choice == \"p\":      \n",
    "    while True:    \n",
    "        alarm_period = input(\"Please enter the time duration before the alarm (h:m): \")          \n",
    "        alarm_period_hour     = int(alarm_period.split(\":\")[0])\n",
    "        alarm_period_minute   = int(alarm_period.split(\":\")[1])         \n",
    "        time.sleep(alarm_period_hour * 3600 + alarm_period_minute *60)\n",
    "        os.startfile(\"C:/Users/MK/default.mp3\")\n",
    "        break   "
   ]
  },
  {
   "cell_type": "code",
   "execution_count": 2,
   "metadata": {},
   "outputs": [],
   "source": [
    "os.startfile(\"C:/Users/MK/default.mp3\")"
   ]
  },
  {
   "cell_type": "code",
   "execution_count": 3,
   "metadata": {},
   "outputs": [],
   "source": [
    "alarm_time = \"2:23\""
   ]
  },
  {
   "cell_type": "code",
   "execution_count": 4,
   "metadata": {},
   "outputs": [
    {
     "data": {
      "text/plain": [
       "23"
      ]
     },
     "execution_count": 4,
     "metadata": {},
     "output_type": "execute_result"
    }
   ],
   "source": [
    "int(alarm_time.split(\":\")[1])"
   ]
  },
  {
   "cell_type": "code",
   "execution_count": null,
   "metadata": {},
   "outputs": [],
   "source": []
  }
 ],
 "metadata": {
  "kernelspec": {
   "display_name": "Python 3",
   "language": "python",
   "name": "python3"
  },
  "language_info": {
   "codemirror_mode": {
    "name": "ipython",
    "version": 3
   },
   "file_extension": ".py",
   "mimetype": "text/x-python",
   "name": "python",
   "nbconvert_exporter": "python",
   "pygments_lexer": "ipython3",
   "version": "3.7.3"
  }
 },
 "nbformat": 4,
 "nbformat_minor": 4
}
