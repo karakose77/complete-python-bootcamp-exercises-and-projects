{
 "cells": [
  {
   "cell_type": "markdown",
   "metadata": {},
   "source": [
    "### Text Based Adventure Game\n",
    "A simple text based adventure game similar to MUD's of 90's."
   ]
  },
  {
   "cell_type": "code",
   "execution_count": 1,
   "metadata": {},
   "outputs": [],
   "source": [
    "locations   = {\"building\" : \"You are sitting in front of a computer learning Python.\",\n",
    "               \"road\"     : \"You standing at the end of the road before a small brick building.\",\n",
    "               \"hill\"     : \"You are at the top of a hill.\",\n",
    "               \"forest\"   : \"You are in the forest.\",\n",
    "               \"valley\"   : \"You are in a valley beside a stream.\"}\n",
    "exits       = {\"building\" : {\"q\": False, \"w\": \"road\"},\n",
    "               \"road\"     : {\"q\": False, \"w\": \"hill\", \"e\": \"building\", \"n\": \"forest\", \"s\": \"valley\"},\n",
    "               \"hill\"     : {\"q\": False, \"n\": \"forest\"},\n",
    "               \"forest\"   : {\"q\": False, \"w\": \"hill\", \"s\": \"road\"},\n",
    "               \"valley\"   : {\"q\": False, \"w\": \"hill\", \"n\": \"road\"}}"
   ]
  },
  {
   "cell_type": "code",
   "execution_count": 2,
   "metadata": {},
   "outputs": [
    {
     "name": "stdout",
     "output_type": "stream",
     "text": [
      "You are sitting in front of a computer learning Python.\n",
      "The exits are: \n",
      "'w' (to the road)\n"
     ]
    },
    {
     "name": "stdin",
     "output_type": "stream",
     "text": [
      "\n",
      "Which way do you want to go?:  w\n"
     ]
    },
    {
     "name": "stdout",
     "output_type": "stream",
     "text": [
      "\n",
      "\n",
      "You standing at the end of the road before a small brick building.\n",
      "The exits are: \n",
      "'w' (to the hill)\n",
      "'e' (to the building)\n",
      "'n' (to the forest)\n",
      "'s' (to the valley)\n"
     ]
    },
    {
     "name": "stdin",
     "output_type": "stream",
     "text": [
      "Which way do you want to go?:  n\n"
     ]
    },
    {
     "name": "stdout",
     "output_type": "stream",
     "text": [
      "\n",
      "\n",
      "You are in the forest.\n",
      "The exits are: \n",
      "'w' (to the hill)\n",
      "'s' (to the road)\n"
     ]
    },
    {
     "name": "stdin",
     "output_type": "stream",
     "text": [
      "Which way do you want to go?:  w\n"
     ]
    },
    {
     "name": "stdout",
     "output_type": "stream",
     "text": [
      "\n",
      "\n",
      "You are at the top of a hill.\n",
      "The exits are: \n",
      "'n' (to the forest)\n"
     ]
    },
    {
     "name": "stdin",
     "output_type": "stream",
     "text": [
      "Which way do you want to go?:  n\n"
     ]
    },
    {
     "name": "stdout",
     "output_type": "stream",
     "text": [
      "\n",
      "\n",
      "You are in the forest.\n",
      "The exits are: \n",
      "'w' (to the hill)\n",
      "'s' (to the road)\n"
     ]
    },
    {
     "name": "stdin",
     "output_type": "stream",
     "text": [
      "Which way do you want to go?:  q\n"
     ]
    },
    {
     "name": "stdout",
     "output_type": "stream",
     "text": [
      "\n",
      "See you next time!\n"
     ]
    }
   ],
   "source": [
    "location = \"building\"\n",
    "print(locations[location])\n",
    "for item in exits[location]:    \n",
    "    if exits[location][item] != False:\n",
    "        print(f\"The exits are: \\n'{item}' (to the {exits[location][item]})\")\n",
    "movement = input(\"\\nWhich way do you want to go?: \")\n",
    "while exits[location][movement] != False:\n",
    "    location = exits[location][movement]\n",
    "    print(\"\\n\")\n",
    "    print(locations[location])\n",
    "    print(\"The exits are: \")    \n",
    "    for item in exits[location]:\n",
    "        if exits[location][item] != False:\n",
    "            print(f\"'{item}' (to the {exits[location][item]})\")            \n",
    "    movement = input(\"Which way do you want to go?: \")\n",
    "    continue\n",
    "else:\n",
    "    print(\"\\nSee you next time!\")"
   ]
  },
  {
   "cell_type": "code",
   "execution_count": null,
   "metadata": {},
   "outputs": [],
   "source": []
  }
 ],
 "metadata": {
  "kernelspec": {
   "display_name": "Python 3",
   "language": "python",
   "name": "python3"
  },
  "language_info": {
   "codemirror_mode": {
    "name": "ipython",
    "version": 3
   },
   "file_extension": ".py",
   "mimetype": "text/x-python",
   "name": "python",
   "nbconvert_exporter": "python",
   "pygments_lexer": "ipython3",
   "version": "3.7.3"
  }
 },
 "nbformat": 4,
 "nbformat_minor": 4
}
