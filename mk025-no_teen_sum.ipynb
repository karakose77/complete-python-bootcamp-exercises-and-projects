{
  "cells": [
    {
      "cell_type": "code",
      "source": [
        "# Given 3 int values, a b c, return their sum. However, if any of the values is a\n",
        "# teen -- in the range 13-19 inclusive -- then that value counts as 0, except 15\n",
        "# and 16 do not count as a teen. Write a separate helper function that\n",
        "# takes in an int value and returns that value fixed for the teen rule.\n",
        "#\n",
        "# Examples:\n",
        "# no_teen_sum(1, 2, 3) → 6\n",
        "# no_teen_sum(2, 13, 1) → 3\n",
        "# no_teen_sum(2, 1, 14) → 3\n",
        "\n",
        "\n",
        "def no_teen_sum(a, b, c):\n",
        "    return fix_teen(a) + fix_teen(b) + fix_teen(c)\n",
        "  \n",
        "\n",
        "def fix_teen(n):\n",
        "    if n in range(13, 20) and n != 15 and n != 16:\n",
        "        return 0\n",
        "    else:\n",
        "        return n\n",
        "      \n",
        "\n",
        "print(no_teen_sum(1, 2, 3))\n",
        "print(no_teen_sum(2, 13, 1))\n",
        "print(no_teen_sum(2, 1, 14))\n",
        "print(no_teen_sum(19, 2, 3))\n",
        "print(no_teen_sum(6, 15, 3))\n",
        "print(no_teen_sum(7, 2, 16))"
      ],
      "outputs": [
        {
          "output_type": "stream",
          "name": "stdout",
          "text": [
            "6\n",
            "3\n",
            "3\n",
            "5\n",
            "24\n",
            "25\n"
          ]
        }
      ],
      "execution_count": 1,
      "metadata": {
        "collapsed": false,
        "outputHidden": false,
        "inputHidden": false
      }
    },
    {
      "cell_type": "code",
      "source": [],
      "outputs": [],
      "execution_count": null,
      "metadata": {
        "collapsed": false,
        "outputHidden": false,
        "inputHidden": false
      }
    }
  ],
  "metadata": {
    "kernel_info": {
      "name": "python3"
    },
    "language_info": {
      "name": "python",
      "version": "3.6.8",
      "mimetype": "text/x-python",
      "codemirror_mode": {
        "name": "ipython",
        "version": 3
      },
      "pygments_lexer": "ipython3",
      "nbconvert_exporter": "python",
      "file_extension": ".py"
    },
    "kernelspec": {
      "name": "python3",
      "language": "python",
      "display_name": "Python 3"
    },
    "nteract": {
      "version": "0.14.2"
    }
  },
  "nbformat": 4,
  "nbformat_minor": 0
}