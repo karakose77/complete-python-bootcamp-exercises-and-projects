{
 "cells": [
  {
   "cell_type": "markdown",
   "metadata": {},
   "source": [
    "### Coin Flip Simulation\n",
    "Simulate flipping a single coin any number of times the user decides. The code should record the outcomes and count the number of tails and heads."
   ]
  },
  {
   "cell_type": "code",
   "execution_count": 1,
   "metadata": {},
   "outputs": [],
   "source": [
    "import random\n",
    "\n",
    "def coin_flip_simulator():\n",
    "    num_flip = int(input(\"How many times do you want to flip the coin?: \"))\n",
    "    heads = []\n",
    "    tails = []\n",
    "\n",
    "    for i in range(num_flip):    \n",
    "        outcome = random.randint(0, 1)\n",
    "\n",
    "        if outcome == 0:        \n",
    "            heads.append(i)        \n",
    "        else:        \n",
    "            tails.append(i)\n",
    "\n",
    "    return f\"Heads count: {len(heads)}\", f\"Tails count: {len(tails)}\"    "
   ]
  },
  {
   "cell_type": "code",
   "execution_count": 2,
   "metadata": {},
   "outputs": [
    {
     "name": "stdin",
     "output_type": "stream",
     "text": [
      "How many times do you want to flip the coin?:  1500\n"
     ]
    },
    {
     "data": {
      "text/plain": [
       "('Heads count: 744', 'Tails count: 756')"
      ]
     },
     "execution_count": 2,
     "metadata": {},
     "output_type": "execute_result"
    }
   ],
   "source": [
    "coin_flip_simulator()"
   ]
  },
  {
   "cell_type": "code",
   "execution_count": null,
   "metadata": {},
   "outputs": [],
   "source": []
  }
 ],
 "metadata": {
  "kernelspec": {
   "display_name": "Python 3",
   "language": "python",
   "name": "python3"
  },
  "language_info": {
   "codemirror_mode": {
    "name": "ipython",
    "version": 3
   },
   "file_extension": ".py",
   "mimetype": "text/x-python",
   "name": "python",
   "nbconvert_exporter": "python",
   "pygments_lexer": "ipython3",
   "version": "3.6.8"
  }
 },
 "nbformat": 4,
 "nbformat_minor": 2
}
