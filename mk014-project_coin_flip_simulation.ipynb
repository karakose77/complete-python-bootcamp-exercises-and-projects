{
 "cells": [
  {
   "cell_type": "markdown",
   "metadata": {},
   "source": [
    "### Coin Flip Simulation\n",
    "Simulate flipping a single coin any number of times the user decides. The code should record the outcomes and count the number of tails and heads."
   ]
  },
  {
   "cell_type": "code",
   "execution_count": 1,
   "metadata": {},
   "outputs": [],
   "source": [
    "import random"
   ]
  },
  {
   "cell_type": "code",
   "execution_count": 2,
   "metadata": {},
   "outputs": [],
   "source": [
    "def coin_flip_simulator():\n",
    "    flip_count = int(input(\"How many times do you want to flip the coin?: \"))\n",
    "    heads = []\n",
    "    tails = []\n",
    "    for i in range(flip_count):    \n",
    "        outcome = random.randint(0, 1)\n",
    "        if outcome == 0:        \n",
    "            heads.append(i)        \n",
    "        else:        \n",
    "            tails.append(i)\n",
    "    return f\"Heads count: {len(heads)}\", f\"Tails count: {len(tails)}\"    "
   ]
  },
  {
   "cell_type": "code",
   "execution_count": 3,
   "metadata": {},
   "outputs": [
    {
     "name": "stdin",
     "output_type": "stream",
     "text": [
      "How many times do you want to flip the coin?:  20\n"
     ]
    },
    {
     "data": {
      "text/plain": [
       "('Heads count: 10', 'Tails count: 10')"
      ]
     },
     "execution_count": 3,
     "metadata": {},
     "output_type": "execute_result"
    }
   ],
   "source": [
    "coin_flip_simulator()"
   ]
  },
  {
   "cell_type": "code",
   "execution_count": null,
   "metadata": {},
   "outputs": [],
   "source": []
  }
 ],
 "metadata": {
  "kernelspec": {
   "display_name": "Python 3",
   "language": "python",
   "name": "python3"
  },
  "language_info": {
   "codemirror_mode": {
    "name": "ipython",
    "version": 3
   },
   "file_extension": ".py",
   "mimetype": "text/x-python",
   "name": "python",
   "nbconvert_exporter": "python",
   "pygments_lexer": "ipython3",
   "version": "3.7.3"
  }
 },
 "nbformat": 4,
 "nbformat_minor": 4
}
