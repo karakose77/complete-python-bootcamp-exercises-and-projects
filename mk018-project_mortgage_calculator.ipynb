{
 "cells": [
  {
   "cell_type": "markdown",
   "metadata": {},
   "source": [
    "### Mortgage Calculator\n",
    "Calculate the monthly payments of a fixed term mortgage over given Nth terms at a given interest rate. "
   ]
  },
  {
   "cell_type": "code",
   "execution_count": 8,
   "metadata": {},
   "outputs": [],
   "source": [
    "# monthly_total = total_loan * interest_rate * (1 + interest_rate)**total_period / ((1 + interest_rate)**total_period - 1)\n",
    "# monthly_interest = remaining_loan * interest_rate * passed_period / 100\n",
    "# monthly loan = monthly_total - monthly_interest\n",
    "def mortgate_calculator():\n",
    "    \"\"\"\n",
    "    Calculates the monthly payments of a fixed term mortgage \n",
    "    over given Nth terms at a given interest rate.\n",
    "    \"\"\"\n",
    "    total_loan = int(input(\"Please enter how much do you want to borrow?: \"))\n",
    "    interest_rate = float(input(\"Please enter the interest rate: \")) / 100\n",
    "    total_period = int(input(\"How many months is going to be the loan period?: \"))\n",
    "    current_term = int(input(\"What is the current term?: \"))\n",
    "\n",
    "    monthly_total = round(total_loan * interest_rate * (1 + interest_rate)**total_period / ((1 + interest_rate)**total_period - 1), 2)\n",
    "    remaining_loan = total_loan\n",
    "\n",
    "    for current_period in range(1, current_term + 1):        \n",
    "        monthly_interest = round(remaining_loan * 100 * interest_rate * 1 / 100, 2)\n",
    "        remaining_loan = round(remaining_loan - (monthly_total - monthly_interest), 2)\n",
    "        \n",
    "    print(f\"Monthly total: {monthly_total},\\nMonthly interest: {monthly_interest},\\nRemaining loan: {remaining_loan}\")\n",
    "    return monthly_total, monthly_interest, remaining_loan"
   ]
  },
  {
   "cell_type": "code",
   "execution_count": 9,
   "metadata": {},
   "outputs": [
    {
     "name": "stdin",
     "output_type": "stream",
     "text": [
      "Please enter how much do you want to borrow?:  300000\n",
      "Please enter the interest rate:  0.88\n",
      "How many months is going to be the loan period?:  48\n",
      "What is the current term?:  4\n"
     ]
    },
    {
     "name": "stdout",
     "output_type": "stream",
     "text": [
      "Monthly total: 7689.71,\n",
      "Monthly interest: 2505.51,\n",
      "Remaining loan: 279532.96\n"
     ]
    },
    {
     "data": {
      "text/plain": [
       "(7689.71, 2505.51, 279532.96)"
      ]
     },
     "execution_count": 9,
     "metadata": {},
     "output_type": "execute_result"
    }
   ],
   "source": [
    "mortgate_calculator()"
   ]
  },
  {
   "cell_type": "code",
   "execution_count": 7,
   "metadata": {},
   "outputs": [
    {
     "name": "stdin",
     "output_type": "stream",
     "text": [
      "Please enter how much do you want to borrow?:  300000\n",
      "Please enter the interest rate:  0.9\n",
      "How many months is going to be the loan period?:  48\n",
      "What is the current term?:  30\n"
     ]
    },
    {
     "data": {
      "text/plain": [
       "('Monthly total: 7724.55',\n",
       " 'Monthly interest: 1209.15',\n",
       " 'Remaining loan: 127834.75')"
      ]
     },
     "execution_count": 7,
     "metadata": {},
     "output_type": "execute_result"
    }
   ],
   "source": [
    "mortgate_calculator()"
   ]
  }
 ],
 "metadata": {
  "kernelspec": {
   "display_name": "Python 3",
   "language": "python",
   "name": "python3"
  },
  "language_info": {
   "codemirror_mode": {
    "name": "ipython",
    "version": 3
   },
   "file_extension": ".py",
   "mimetype": "text/x-python",
   "name": "python",
   "nbconvert_exporter": "python",
   "pygments_lexer": "ipython3",
   "version": "3.7.3"
  }
 },
 "nbformat": 4,
 "nbformat_minor": 2
}
