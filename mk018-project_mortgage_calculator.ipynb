{
 "cells": [
  {
   "cell_type": "markdown",
   "metadata": {},
   "source": [
    "### Mortgage Calculator\n",
    "Calculate the monthly payments of a fixed term mortgage over given Nth terms at a given interest rate. "
   ]
  },
  {
   "cell_type": "code",
   "execution_count": 8,
   "metadata": {},
   "outputs": [],
   "source": [
    "# monthly_total = total_loan * interest_rate * (1 + interest_rate)**total_period / ((1 + interest_rate)**total_period - 1)\n",
    "# monthly_interest = remaining_loan * interest_rate * passed_period / 100\n",
    "# monthly loan = monthly_total - monthly_interest\n",
    "def mortgate_calculator():\n",
    "    \"\"\"\n",
    "    Calculates the monthly payments of a fixed term mortgage \n",
    "    over given Nth terms at a given interest rate.\n",
    "    \"\"\"\n",
    "    total_loan = int(input(\"Please enter how much do you want to borrow?: \"))\n",
    "    interest_rate = float(input(\"Please enter the interest rate: \")) / 100\n",
    "    total_period = int(input(\"How many months is going to be the loan period?: \"))\n",
    "    current_term = int(input(\"What is the current term?: \"))\n",
    "    monthly_total = round(total_loan * interest_rate * (1 + interest_rate)**total_period /\n",
    "                          ((1 + interest_rate)**total_period - 1), 2)\n",
    "    remaining_loan = total_loan\n",
    "    for current_period in range(1, current_term + 1):        \n",
    "        monthly_interest = round(remaining_loan * 100 * interest_rate * 1 / 100, 2)\n",
    "        remaining_loan = round(remaining_loan - (monthly_total - monthly_interest), 2)        \n",
    "    print(f\"Monthly total: {monthly_total},\\\n",
    "            \\nMonthly interest: {monthly_interest},\\\n",
    "            \\nRemaining loan: {remaining_loan}\")\n",
    "    return monthly_total, monthly_interest, remaining_loan"
   ]
  },
  {
   "cell_type": "code",
   "execution_count": 9,
   "metadata": {},
   "outputs": [
    {
     "name": "stdin",
     "output_type": "stream",
     "text": [
      "Please enter how much do you want to borrow?:  200000\n",
      "Please enter the interest rate:  0.99\n",
      "How many months is going to be the loan period?:  120\n",
      "What is the current term?:  1\n"
     ]
    },
    {
     "name": "stdout",
     "output_type": "stream",
     "text": [
      "Monthly total: 2855.56,            \n",
      "Monthly interest: 1980.0,            \n",
      "Remaining loan: 199124.44\n"
     ]
    },
    {
     "data": {
      "text/plain": [
       "(2855.56, 1980.0, 199124.44)"
      ]
     },
     "execution_count": 9,
     "metadata": {},
     "output_type": "execute_result"
    }
   ],
   "source": [
    "mortgate_calculator()"
   ]
  },
  {
   "cell_type": "code",
   "execution_count": 10,
   "metadata": {},
   "outputs": [
    {
     "name": "stdin",
     "output_type": "stream",
     "text": [
      "Please enter how much do you want to borrow?:  200000\n",
      "Please enter the interest rate:  0.88\n",
      "How many months is going to be the loan period?:  120\n",
      "What is the current term?:  1\n"
     ]
    },
    {
     "name": "stdout",
     "output_type": "stream",
     "text": [
      "Monthly total: 2705.42,            \n",
      "Monthly interest: 1760.0,            \n",
      "Remaining loan: 199054.58\n"
     ]
    },
    {
     "data": {
      "text/plain": [
       "(2705.42, 1760.0, 199054.58)"
      ]
     },
     "execution_count": 10,
     "metadata": {},
     "output_type": "execute_result"
    }
   ],
   "source": [
    "mortgate_calculator()"
   ]
  }
 ],
 "metadata": {
  "kernelspec": {
   "display_name": "Python 3",
   "language": "python",
   "name": "python3"
  },
  "language_info": {
   "codemirror_mode": {
    "name": "ipython",
    "version": 3
   },
   "file_extension": ".py",
   "mimetype": "text/x-python",
   "name": "python",
   "nbconvert_exporter": "python",
   "pygments_lexer": "ipython3",
   "version": "3.7.3"
  }
 },
 "nbformat": 4,
 "nbformat_minor": 4
}
