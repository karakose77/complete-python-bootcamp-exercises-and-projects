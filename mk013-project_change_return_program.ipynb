{
 "cells": [
  {
   "cell_type": "markdown",
   "metadata": {},
   "source": [
    "### Change Return Program\n",
    "The user enters a cost and then the amount of money given. The program will calculate the change and the number of TL's and Kr's (1TL = 100Kr)."
   ]
  },
  {
   "cell_type": "code",
   "execution_count": 4,
   "metadata": {},
   "outputs": [],
   "source": [
    "def change_calculator(cost, money):    \n",
    "    change      = money - cost\n",
    "    banknotes   = (200, 100, 50, 20, 10, 5, 1, 0.5, 0.25, 0.1, 0.05)\n",
    "    change_banknotes = {}\n",
    "\n",
    "    for banknote in banknotes:        \n",
    "        if int(change/banknote) >= 1:\n",
    "            if banknote < 1:\n",
    "                change_banknotes[str(int(banknote*100))+\"Kr\"] = int(change / banknote)\n",
    "            else:\n",
    "                change_banknotes[str(banknote)+\"TL\"] = int(change / banknote)\n",
    "            change = change % banknote            \n",
    "        else:            \n",
    "            continue\n",
    "    \n",
    "    return change_banknotes         "
   ]
  },
  {
   "cell_type": "code",
   "execution_count": 8,
   "metadata": {},
   "outputs": [
    {
     "data": {
      "text/plain": [
       "{'20TL': 1, '10TL': 1, '1TL': 2, '50Kr': 1, '25Kr': 1}"
      ]
     },
     "execution_count": 8,
     "metadata": {},
     "output_type": "execute_result"
    }
   ],
   "source": [
    "change_calculator(567.25, 600)"
   ]
  },
  {
   "cell_type": "code",
   "execution_count": 6,
   "metadata": {},
   "outputs": [
    {
     "data": {
      "text/plain": [
       "32.129999999999995"
      ]
     },
     "execution_count": 6,
     "metadata": {},
     "output_type": "execute_result"
    }
   ],
   "source": [
    "600-567.87"
   ]
  },
  {
   "cell_type": "code",
   "execution_count": null,
   "metadata": {},
   "outputs": [],
   "source": []
  }
 ],
 "metadata": {
  "kernelspec": {
   "display_name": "Python 3",
   "language": "python",
   "name": "python3"
  },
  "language_info": {
   "codemirror_mode": {
    "name": "ipython",
    "version": 3
   },
   "file_extension": ".py",
   "mimetype": "text/x-python",
   "name": "python",
   "nbconvert_exporter": "python",
   "pygments_lexer": "ipython3",
   "version": "3.6.8"
  }
 },
 "nbformat": 4,
 "nbformat_minor": 2
}
