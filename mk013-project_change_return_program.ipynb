{
 "cells": [
  {
   "cell_type": "markdown",
   "metadata": {},
   "source": [
    "### Change Return Program\n",
    "The user enters a cost and then the amount of money given. The program will calculate the change and the number of TL's and Kr's (1TL = 100Kr)."
   ]
  },
  {
   "cell_type": "code",
   "execution_count": 1,
   "metadata": {},
   "outputs": [],
   "source": [
    "def change_calculator(cost, money):    \n",
    "    change = money - cost\n",
    "    banknotes = (200, 100, 50, 20, 10, 5, 1, 0.5, 0.25, 0.1, 0.05)\n",
    "    change_banknotes = {}\n",
    "    for banknote in banknotes:        \n",
    "        if change // banknote >= 1:\n",
    "            if banknote < 1:\n",
    "                change_banknotes[str(int(banknote * 100)) + \"Kr\"] = change // banknote\n",
    "            else:\n",
    "                change_banknotes[str(banknote) + \"TL\"] = change // banknote\n",
    "            change = round(change % banknote, 2)    \n",
    "    return change_banknotes         "
   ]
  },
  {
   "cell_type": "code",
   "execution_count": 2,
   "metadata": {},
   "outputs": [
    {
     "data": {
      "text/plain": [
       "{'200TL': 2.0, '50TL': 1.0, '20TL': 1.0, '1TL': 4.0, '50Kr': 1.0, '10Kr': 2.0}"
      ]
     },
     "execution_count": 2,
     "metadata": {},
     "output_type": "execute_result"
    }
   ],
   "source": [
    "change_calculator(125.3, 600)"
   ]
  },
  {
   "cell_type": "code",
   "execution_count": null,
   "metadata": {},
   "outputs": [],
   "source": []
  }
 ],
 "metadata": {
  "kernelspec": {
   "display_name": "Python 3",
   "language": "python",
   "name": "python3"
  },
  "language_info": {
   "codemirror_mode": {
    "name": "ipython",
    "version": 3
   },
   "file_extension": ".py",
   "mimetype": "text/x-python",
   "name": "python",
   "nbconvert_exporter": "python",
   "pygments_lexer": "ipython3",
   "version": "3.7.3"
  }
 },
 "nbformat": 4,
 "nbformat_minor": 4
}
