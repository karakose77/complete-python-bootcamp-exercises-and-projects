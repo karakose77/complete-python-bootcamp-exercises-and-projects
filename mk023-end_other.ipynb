{
  "cells": [
    {
      "cell_type": "code",
      "source": [
        "# Given two strings, return True if either of the strings appears at the very end\n",
        "# of the other string, ignoring upper/lower case differences (in other words, the\n",
        "# computation should not be \"case sensitive\").\n",
        "\n",
        "# Examples:\n",
        "# end_other('Hiabc', 'abc') → True\n",
        "# end_other('AbC', 'HiaBc') → True\n",
        "# end_other('abc', 'abXabc') → True\n",
        "\n",
        "\n",
        "def end_other(a, b):\n",
        "    return a.lower() == b[-len(a):].lower() or b.lower() == a[-len(b):].lower()\n",
        "  \n",
        "\n",
        "print(end_other('Hiabc', 'abc'))\n",
        "print(end_other('AbC', 'HiaBc'))\n",
        "print(end_other('abc', 'abXabc'))"
      ],
      "outputs": [
        {
          "output_type": "stream",
          "name": "stdout",
          "text": [
            "True\n",
            "True\n",
            "True\n"
          ]
        }
      ],
      "execution_count": 1,
      "metadata": {
        "collapsed": false,
        "outputHidden": false,
        "inputHidden": false
      }
    },
    {
      "cell_type": "code",
      "source": [],
      "outputs": [],
      "execution_count": null,
      "metadata": {
        "collapsed": false,
        "outputHidden": false,
        "inputHidden": false
      }
    }
  ],
  "metadata": {
    "kernel_info": {
      "name": "python3"
    },
    "language_info": {
      "name": "python",
      "version": "3.6.8",
      "mimetype": "text/x-python",
      "codemirror_mode": {
        "name": "ipython",
        "version": 3
      },
      "pygments_lexer": "ipython3",
      "nbconvert_exporter": "python",
      "file_extension": ".py"
    },
    "kernelspec": {
      "name": "python3",
      "language": "python",
      "display_name": "Python 3"
    },
    "nteract": {
      "version": "0.14.2"
    }
  },
  "nbformat": 4,
  "nbformat_minor": 0
}