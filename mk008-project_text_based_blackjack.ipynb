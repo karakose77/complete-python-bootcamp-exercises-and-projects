{
 "cells": [
  {
   "cell_type": "code",
   "execution_count": 1,
   "metadata": {},
   "outputs": [
    {
     "name": "stdin",
     "output_type": "stream",
     "text": [
      "How much is your balance?:  100\n",
      "How much do you want to bet?:  10\n"
     ]
    },
    {
     "name": "stdout",
     "output_type": "stream",
     "text": [
      "\n",
      "Player bets $10!\n",
      "\n",
      "Player's balance is $90.\n",
      "\n",
      "Good luck!\n",
      "\n",
      "Player draws two cards: ['5♣', '7♣'].\n",
      "Player's current sum is 12.\n",
      "\n",
      "Dealer draws two cards: ['J♠']. The second one is closed.\n",
      "Dealer's current sum is 10.\n"
     ]
    },
    {
     "name": "stdin",
     "output_type": "stream",
     "text": [
      "\n",
      "Do you want to draw again? Yes or No? y\n"
     ]
    },
    {
     "name": "stdout",
     "output_type": "stream",
     "text": [
      "\n",
      "Player draws: 6♣.\n",
      "\n",
      "Player's current hand is:\n",
      "\n",
      "['5♣', '7♣', '6♣'].\n",
      "Player's current total is 18.\n",
      "\n",
      "Dealer's current hand is:\n",
      "\n",
      "['J♠'].\n",
      "Dealer's current total is 10.\n"
     ]
    },
    {
     "name": "stdin",
     "output_type": "stream",
     "text": [
      "\n",
      "Do you want to draw again? Yes or No? n\n"
     ]
    },
    {
     "name": "stdout",
     "output_type": "stream",
     "text": [
      "Player stays. Dealer's turn.\n",
      "\n",
      "The hidden card was: J♣.\n",
      "\n",
      "Dealer's current hand is:\n",
      "\n",
      "['J♠', 'J♣'].\n",
      "Dealer's current total is 20.\n",
      "\n",
      "Player's current hand is:\n",
      "\n",
      "['5♣', '7♣', '6♣'].\n",
      "Player's current total is 18.\n",
      "\n",
      "Dealer wins!\n"
     ]
    },
    {
     "name": "stdin",
     "output_type": "stream",
     "text": [
      "\n",
      "Do you want to play again? Yes or No? y\n",
      "How much do you want to bet?:  10\n"
     ]
    },
    {
     "name": "stdout",
     "output_type": "stream",
     "text": [
      "\n",
      "Player bets $10!\n",
      "\n",
      "Player's balance is $80.\n",
      "\n",
      "Good luck!\n",
      "\n",
      "Player draws two cards: ['7♣', '8♠'].\n",
      "Player's current sum is 15.\n",
      "\n",
      "Dealer draws two cards: ['Q♣']. The second one is closed.\n",
      "Dealer's current sum is 10.\n"
     ]
    },
    {
     "name": "stdin",
     "output_type": "stream",
     "text": [
      "\n",
      "Do you want to draw again? Yes or No? y\n"
     ]
    },
    {
     "name": "stdout",
     "output_type": "stream",
     "text": [
      "\n",
      "Player draws: 4♦.\n",
      "\n",
      "Player's current hand is:\n",
      "\n",
      "['7♣', '8♠', '4♦'].\n",
      "Player's current total is 19.\n",
      "\n",
      "Dealer's current hand is:\n",
      "\n",
      "['Q♣'].\n",
      "Dealer's current total is 10.\n"
     ]
    },
    {
     "name": "stdin",
     "output_type": "stream",
     "text": [
      "\n",
      "Do you want to draw again? Yes or No? n\n"
     ]
    },
    {
     "name": "stdout",
     "output_type": "stream",
     "text": [
      "Player stays. Dealer's turn.\n",
      "\n",
      "The hidden card was: A♣.\n",
      "\n",
      "Dealer's current hand is:\n",
      "\n",
      "['Q♣', 'A♣'].\n",
      "Dealer's current total is 21.\n",
      "\n",
      "Player's current hand is:\n",
      "\n",
      "['7♣', '8♠', '4♦'].\n",
      "Player's current total is 19.\n",
      "\n",
      "Dealer wins!\n"
     ]
    },
    {
     "name": "stdin",
     "output_type": "stream",
     "text": [
      "\n",
      "Do you want to play again? Yes or No? y\n",
      "How much do you want to bet?:  10\n"
     ]
    },
    {
     "name": "stdout",
     "output_type": "stream",
     "text": [
      "\n",
      "Player bets $10!\n",
      "\n",
      "Player's balance is $70.\n",
      "\n",
      "Good luck!\n",
      "\n",
      "Player draws two cards: ['K♦', '3♣'].\n",
      "Player's current sum is 13.\n",
      "\n",
      "Dealer draws two cards: ['J♣']. The second one is closed.\n",
      "Dealer's current sum is 10.\n"
     ]
    },
    {
     "name": "stdin",
     "output_type": "stream",
     "text": [
      "\n",
      "Do you want to draw again? Yes or No? y\n"
     ]
    },
    {
     "name": "stdout",
     "output_type": "stream",
     "text": [
      "\n",
      "Player draws: 4♥.\n",
      "\n",
      "Player's current hand is:\n",
      "\n",
      "['K♦', '3♣', '4♥'].\n",
      "Player's current total is 17.\n",
      "\n",
      "Dealer's current hand is:\n",
      "\n",
      "['J♣'].\n",
      "Dealer's current total is 10.\n"
     ]
    },
    {
     "name": "stdin",
     "output_type": "stream",
     "text": [
      "\n",
      "Do you want to draw again? Yes or No? y\n"
     ]
    },
    {
     "name": "stdout",
     "output_type": "stream",
     "text": [
      "\n",
      "Player draws: 7♦.\n",
      "\n",
      "Player's current hand is:\n",
      "\n",
      "['K♦', '3♣', '4♥', '7♦'].\n",
      "Player's current total is 24.\n",
      "\n",
      "Dealer's current hand is:\n",
      "\n",
      "['J♣'].\n",
      "Dealer's current total is 10.\n",
      "Player busted! Dealer wins!\n",
      "\n",
      "The hidden card was: 9♦.\n"
     ]
    },
    {
     "name": "stdin",
     "output_type": "stream",
     "text": [
      "\n",
      "Do you want to play again? Yes or No? n\n"
     ]
    },
    {
     "name": "stdout",
     "output_type": "stream",
     "text": [
      "\n",
      "Thanks for playing.\n"
     ]
    }
   ],
   "source": [
    "import random\n",
    "\n",
    "class Account:\n",
    "    \"\"\"\n",
    "    Tracks how much money the player has won or lost.\n",
    "    \"\"\"    \n",
    "    def __init__(self, owner, balance=1000):        \n",
    "        self.owner   = owner\n",
    "        self.balance = balance\n",
    "        \n",
    "    def win(self, amount):        \n",
    "        self.balance += 2*amount\n",
    "        print(f\"\\n${2*amount} is added to your account!\")\n",
    "    \n",
    "    def tie(self, amount):        \n",
    "        self.balance += amount\n",
    "        print(f\"\\n${amount} is added to your account!\")\n",
    "        \n",
    "    def bet(self, amount):        \n",
    "        # Balance check: Are there enough money in the account? \n",
    "        if amount <= self.balance:            \n",
    "            self.balance -= amount\n",
    "            print(f\"\\nPlayer bets ${amount}!\")\n",
    "            print(f\"\\nPlayer's balance is ${self.balance}.\")            \n",
    "        else:            \n",
    "            print(f\"You don't have that much money!\") \n",
    "            \n",
    "    def redraw(self):\n",
    "        \"\"\"\n",
    "        This function asks for a new draw.\n",
    "        \"\"\"        \n",
    "        while True:\n",
    "            againd = input(\"\\nDo you want to draw again? Yes or No?\")\n",
    "            if againd[0]==\"y\" or againd[0]==\"Y\" or againd[0]==\"n\" or againd[0]==\"N\":\n",
    "                return againd[0].upper() == \"Y\"\n",
    "                break\n",
    "            else:\n",
    "                print(\"You must enter 'Yes' or 'No'.\")\n",
    "                continue\n",
    "\n",
    "    def replay(self):\n",
    "        \"\"\"\n",
    "        This function asks for a new game.\n",
    "        \"\"\"\n",
    "        while True:\n",
    "            againr = input(\"\\nDo you want to play again? Yes or No?\")\n",
    "            if againr[0]==\"y\" or againr[0]==\"Y\" or againr[0]==\"n\" or againr[0]==\"N\":\n",
    "                return againr[0].upper() == \"Y\"\n",
    "                break\n",
    "            else:\n",
    "                print(\"You must enter 'Yes' or 'No'.\")\n",
    "                continue\n",
    "            \n",
    "    def __str__(self):        \n",
    "        return f\"Account Owner  : {self.owner}\\nAccount Balance: ${self.balance}\"\n",
    "\n",
    "def hand_sum(deck):  \n",
    "    \"\"\"\n",
    "    This function tracks the sum of the computers hand.\n",
    "    \"\"\"\n",
    "    result = 0    \n",
    "    for item in deck:        \n",
    "        result += item[1]    \n",
    "    ace_count = [item[0][0] for item in deck].count(\"A\")    \n",
    "    while result > 21:        \n",
    "        if ace_count > 0:            \n",
    "            result -= 10\n",
    "            ace_count -= 1            \n",
    "        else:            \n",
    "            break\n",
    "    return result\n",
    "    \n",
    "def draw(deck, deck_sub):\n",
    "    \"\"\"\n",
    "    This function manages deck draws.\n",
    "    \"\"\"\n",
    "    draw = random.choice(deck)\n",
    "    deck.remove(draw)\n",
    "    deck_sub.insert(len(deck_sub), draw)    \n",
    "    return deck, deck_sub \n",
    "\n",
    "def create_deck_original():\n",
    "    \"\"\"\n",
    "    This function creates original deck of cards. Cards 2-10 have their \n",
    "    corresponding values. J, Q AND K is worth 10. Aces can be 1 or 10. \n",
    "    The resulting value will be decided in the game.\n",
    "    \"\"\"\n",
    "    values = [11, 2, 3, 4, 5, 6, 7, 8, 9, 10, 10, 10, 10]\n",
    "    suits = [\"\\u2665\", \"\\u2666\", \"\\u2663\", \"\\u2660\"]\n",
    "    ranks = [\"A\", \"2\", \"3\", \"4\", \"5\", \"6\", \"7\", \"8\", \"9\", \"10\", \"J\", \"Q\", \"K\"]\n",
    "    deck_original = []    \n",
    "    for suit in suits:\n",
    "        for i in range(len(values)):\n",
    "            deck_original.append([ranks[i] + suit, values[i]])\n",
    "    return deck_original\n",
    "\n",
    "# Game starts here.\n",
    "balance = int(input(\"How much is your balance?: \"))\n",
    "player  = Account(\"Player\", balance)  \n",
    "\n",
    "while True:    \n",
    "    deck_original = create_deck_original()\n",
    "    draw_count = 1\n",
    "    deck_player = []\n",
    "    deck_dealer = []\n",
    "    deck_dealer_shown = []\n",
    "\n",
    "    # Player input of bet amount\n",
    "    amount  = int(input(\"How much do you want to bet?: \"))\n",
    "    player.bet(amount)\n",
    "    print(\"\\nGood luck!\")  \n",
    "    \n",
    "    # Player's and dealer's first two draw\n",
    "    while draw_count <= 2:\n",
    "        draw(deck_original, deck_player)\n",
    "        draw(deck_original, deck_dealer)\n",
    "        draw_count += 1\n",
    "\n",
    "    print(f\"\\nPlayer draws two cards: {[d[0] for d in deck_player]}.\")\n",
    "    print(f\"Player's current sum is {hand_sum(deck_player)}.\")\n",
    "    deck_dealer_shown.append(deck_dealer[0])\n",
    "    print(f\"\\nDealer draws two cards: {[d[0] for d in deck_dealer_shown]}. The second one is closed.\")\n",
    "    print(f\"Dealer's current sum is {hand_sum(deck_dealer_shown)}.\")\n",
    "    \n",
    "    # Ask player for another draw\n",
    "    while True:        \n",
    "        if player.redraw():        \n",
    "            draw(deck_original, deck_player)\n",
    "            print(f\"\\nPlayer draws: {deck_player[-1][0]}.\")\n",
    "            print(f\"\\nPlayer's current hand is:\\n\\n{[d[0] for d in deck_player]}.\\nPlayer's current total is {hand_sum(deck_player)}.\")\n",
    "            print(f\"\\nDealer's current hand is:\\n\\n{[d[0] for d in deck_dealer_shown]}.\\nDealer's current total is {hand_sum(deck_dealer_shown)}.\")\n",
    "\n",
    "            # If player's draw is bust, game ends\n",
    "            if hand_sum(deck_player) > 21:\n",
    "                print(\"Player busted! Dealer wins!\")                \n",
    "                break\n",
    "        \n",
    "        # If player does not draw\n",
    "        else:            \n",
    "            print(\"Player stays. Dealer's turn.\")            \n",
    "            break\n",
    "\n",
    "    print(f\"\\nThe hidden card was: {deck_dealer[1][0]}.\")\n",
    "    \n",
    "    # Dealer draws till he wins or is busted\n",
    "    while True:\n",
    "        \n",
    "        # If player's draw is a bust no need for dealer to draw\n",
    "        if hand_sum(deck_player) > 21:            \n",
    "            break\n",
    "            \n",
    "        if hand_sum(deck_player) < hand_sum(deck_dealer):            \n",
    "            print(f\"\\nDealer's current hand is:\\n\\n{[d[0] for d in deck_dealer]}.\")\n",
    "            print(f\"Dealer's current total is {hand_sum(deck_dealer)}.\")\n",
    "            print(f\"\\nPlayer's current hand is:\\n\\n{[d[0] for d in deck_player]}.\")\n",
    "            print(f\"Player's current total is {hand_sum(deck_player)}.\")\n",
    "            print(\"\\nDealer wins!\")\n",
    "            break\n",
    "            \n",
    "        draw(deck_original, deck_dealer)\n",
    "        print(f\"\\nDealer draws: {deck_dealer[-1][0]}.\")\n",
    "        print(f\"\\nDealer's current hand is:\\n\\n{[d[0] for d in deck_dealer]}.\")\n",
    "        print(f\"\\nDealer's current total is {hand_sum(deck_dealer)}.\")\n",
    "        print(f\"\\nPlayer's current hand is:\\n\\n{[d[0] for d in deck_player]}.\")\n",
    "        print(f\"Player's current total is {hand_sum(deck_player)}.\")\n",
    "\n",
    "        # If dealer's draw is a bust game ends\n",
    "        if hand_sum(deck_dealer) > 21:\n",
    "            print(\"\\nDealer busted! Player wins!\")\n",
    "            player.win(amount)\n",
    "            break  \n",
    "        \n",
    "        # If dealer's hand is greater than player's hand and not greater that 21 dealer wins\n",
    "        if hand_sum(deck_player) < hand_sum(deck_dealer) <= 21:            \n",
    "            print(\"\\nDealer wins!\")\n",
    "            break  \n",
    "            \n",
    "        # If dealer's hand is the same as player's hand and not greater that 21 game is a tie\n",
    "        if hand_sum(deck_player) == hand_sum(deck_dealer) <= 21:            \n",
    "            print(\"\\nGame is a tie!\")\n",
    "            player.tie(amount)\n",
    "            break\n",
    "\n",
    "    if not player.replay():        \n",
    "        print(\"\\nThanks for playing.\")        \n",
    "        break  "
   ]
  },
  {
   "cell_type": "code",
   "execution_count": null,
   "metadata": {},
   "outputs": [],
   "source": []
  }
 ],
 "metadata": {
  "celltoolbar": "Raw Cell Format",
  "kernelspec": {
   "display_name": "Python 3",
   "language": "python",
   "name": "python3"
  },
  "language_info": {
   "codemirror_mode": {
    "name": "ipython",
    "version": 3
   },
   "file_extension": ".py",
   "mimetype": "text/x-python",
   "name": "python",
   "nbconvert_exporter": "python",
   "pygments_lexer": "ipython3",
   "version": "3.7.3"
  }
 },
 "nbformat": 4,
 "nbformat_minor": 4
}
