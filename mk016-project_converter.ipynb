{
 "cells": [
  {
   "cell_type": "markdown",
   "metadata": {},
   "source": [
    "### Unit Converter\n",
    "Converts various units to one another. The user enters the value and its type. The program will then make the conversion."
   ]
  },
  {
   "cell_type": "code",
   "execution_count": 1,
   "metadata": {},
   "outputs": [],
   "source": [
    "import pandas as pd\n",
    "\n",
    "class Conv:\n",
    "\n",
    "    def temp(num = 0, unit = \"\"):        \n",
    "        if unit == \"C\":            \n",
    "            K = int(num + 273)\n",
    "            F = int(num * 1.8 + 32)\n",
    "            print(f\"{num} C is {K} K and {F} F.\")        \n",
    "        elif unit == \"K\":            \n",
    "            C = int(num - 273)\n",
    "            F = int(C * 1.8 + 32)\n",
    "            print(f\"{num} K is {C} C and {F} F.\")            \n",
    "        elif unit == \"F\":            \n",
    "            C = int((num + 32) / 1.8)\n",
    "            K = int(C + 273)            \n",
    "            print(f\"{num} F is {C} C and {K} K.\")\n",
    "\n",
    "    def curr(num = 0, unit = \"\"):        \n",
    "        tables = pd.read_html(\"http://www.altinkaynak.com/Doviz/Kur/Guncel\")\n",
    "        mystring = str(tables[0])\n",
    "        usd_try = float(mystring[(mystring.index(\"USD\") + 17):(mystring.index(\"USD\") + 23)])\n",
    "        eur_try = float(mystring[(mystring.index(\"EUR\") + 17):(mystring.index(\"EUR\") + 23)])        \n",
    "        if unit == \"USD\":            \n",
    "            E = round(num * usd_try / eur_try, 3)\n",
    "            T = round(num * usd_try, 3)\n",
    "            print(f\"{num} USD is {E} EUR and {T} TRY.\")        \n",
    "        elif unit == \"EUR\":            \n",
    "            D = round(num * eur_try / usd_try, 3)\n",
    "            T = round(num * eur_try, 3)\n",
    "            print(f\"{num} EUR is {D} USD and {T} TRY.\")            \n",
    "        elif unit == \"TRY\":            \n",
    "            D = round(num / usd_try, 3)\n",
    "            E = round(num / eur_try, 3)\n",
    "            print(f\"{num} TRY is {D} USD and {E} EUR.\")\n",
    "        \n",
    "    def vol(num = 0, unit = \"\"):        \n",
    "        if unit == \"m3\":            \n",
    "            l = num * 10**3\n",
    "            print(f\"{num} m\\u00b3 is {l} l.\")        \n",
    "        elif unit == \"l\":            \n",
    "            m = num / 10**3\n",
    "            print(f\"{num} l is {m} m\\u00b3.\")\n",
    "        \n",
    "    def mass(num = 0, unit = \"\"):        \n",
    "        if unit == \"kg\":            \n",
    "            g = num * 10**3\n",
    "            print(f\"{num} kg is {g} g.\")        \n",
    "        elif unit == \"g\":            \n",
    "            k = num / 10**3\n",
    "            print(f\"{num} g is {k} kg.\")"
   ]
  },
  {
   "cell_type": "code",
   "execution_count": 2,
   "metadata": {},
   "outputs": [
    {
     "name": "stdout",
     "output_type": "stream",
     "text": [
      "10 m³ is 10000 l.\n"
     ]
    }
   ],
   "source": [
    "Conv.vol(10,\"m3\")"
   ]
  },
  {
   "cell_type": "code",
   "execution_count": 3,
   "metadata": {},
   "outputs": [
    {
     "name": "stdout",
     "output_type": "stream",
     "text": [
      "10 l is 0.01 m³.\n"
     ]
    }
   ],
   "source": [
    "Conv.vol(10,\"l\")"
   ]
  },
  {
   "cell_type": "code",
   "execution_count": 4,
   "metadata": {},
   "outputs": [
    {
     "name": "stdout",
     "output_type": "stream",
     "text": [
      "1 USD is 0.912 EUR and 5.67 TRY.\n"
     ]
    }
   ],
   "source": [
    "Conv.curr(1,\"USD\")"
   ]
  },
  {
   "cell_type": "code",
   "execution_count": 5,
   "metadata": {},
   "outputs": [
    {
     "name": "stdout",
     "output_type": "stream",
     "text": [
      "1 EUR is 1.097 USD and 6.22 TRY.\n"
     ]
    }
   ],
   "source": [
    "Conv.curr(1,\"EUR\")"
   ]
  },
  {
   "cell_type": "code",
   "execution_count": 6,
   "metadata": {},
   "outputs": [
    {
     "name": "stdout",
     "output_type": "stream",
     "text": [
      "1 TRY is 0.176 USD and 0.161 EUR.\n"
     ]
    }
   ],
   "source": [
    "Conv.curr(1,\"TRY\")"
   ]
  },
  {
   "cell_type": "code",
   "execution_count": 7,
   "metadata": {},
   "outputs": [
    {
     "name": "stdout",
     "output_type": "stream",
     "text": [
      "40 C is 313 K and 104 F.\n"
     ]
    }
   ],
   "source": [
    "Conv.temp(40,\"C\")"
   ]
  },
  {
   "cell_type": "code",
   "execution_count": 8,
   "metadata": {},
   "outputs": [
    {
     "name": "stdout",
     "output_type": "stream",
     "text": [
      "40 K is -233 C and -387 F.\n"
     ]
    }
   ],
   "source": [
    "Conv.temp(40,\"K\")"
   ]
  },
  {
   "cell_type": "code",
   "execution_count": 9,
   "metadata": {},
   "outputs": [
    {
     "name": "stdout",
     "output_type": "stream",
     "text": [
      "40 F is 40 C and 313 K.\n"
     ]
    }
   ],
   "source": [
    "Conv.temp(40,\"F\")"
   ]
  },
  {
   "cell_type": "code",
   "execution_count": null,
   "metadata": {},
   "outputs": [],
   "source": []
  }
 ],
 "metadata": {
  "kernelspec": {
   "display_name": "Python 3",
   "language": "python",
   "name": "python3"
  },
  "language_info": {
   "codemirror_mode": {
    "name": "ipython",
    "version": 3
   },
   "file_extension": ".py",
   "mimetype": "text/x-python",
   "name": "python",
   "nbconvert_exporter": "python",
   "pygments_lexer": "ipython3",
   "version": "3.7.3"
  }
 },
 "nbformat": 4,
 "nbformat_minor": 4
}
