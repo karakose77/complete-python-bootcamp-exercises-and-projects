{
 "cells": [
  {
   "cell_type": "markdown",
   "metadata": {},
   "source": [
    "### Fibonacci Sequence\n",
    "Enter a number and have the program generate the Fibonacci sequence to that number or to the Nth number."
   ]
  },
  {
   "cell_type": "code",
   "execution_count": 3,
   "metadata": {},
   "outputs": [],
   "source": [
    "# BY USING DYNAMIC COMPUTING WE CAN SPEED UP THE COMPUTATION PROCESS \n",
    "# BE CAREFUL USING RECURSIVE ALGORITHMS SO THAT YOU DO NOT DO THE SAME \n",
    "# COMPUTATION MORE THAT ONCE BY STORING ALREADY DONE COMPUTATIONS.\n",
    "\n",
    "def fast_fib(n, memo={}):   \n",
    "    \"\"\"\n",
    "    Returns (n+1)st number in the Fibonacci Sequence.\n",
    "    \"\"\"\n",
    "    if n == 0 or n == 1:\n",
    "        return 1    \n",
    "    else:        \n",
    "        try:\n",
    "            return memo[n]        \n",
    "        except KeyError:\n",
    "            result = fast_fib(n-1, memo) + fast_fib(n-2, memo)\n",
    "            memo[n] = result\n",
    "            return memo[n]\n",
    "        \n",
    "def fast_fib_list(n):\n",
    "    \"\"\"\n",
    "    Returns first n Fibonacci Numbers.\n",
    "    \"\"\"\n",
    "    return [fast_fib(i) for i in range(n)]"
   ]
  },
  {
   "cell_type": "code",
   "execution_count": 8,
   "metadata": {},
   "outputs": [
    {
     "data": {
      "text/plain": [
       "[1, 1, 2, 3, 5, 8, 13, 21, 34, 55]"
      ]
     },
     "execution_count": 8,
     "metadata": {},
     "output_type": "execute_result"
    }
   ],
   "source": [
    "fast_fib_list(10)"
   ]
  },
  {
   "cell_type": "code",
   "execution_count": 9,
   "metadata": {},
   "outputs": [
    {
     "data": {
      "text/plain": [
       "89"
      ]
     },
     "execution_count": 9,
     "metadata": {},
     "output_type": "execute_result"
    }
   ],
   "source": [
    "fast_fib(10)"
   ]
  },
  {
   "cell_type": "code",
   "execution_count": null,
   "metadata": {},
   "outputs": [],
   "source": []
  }
 ],
 "metadata": {
  "kernelspec": {
   "display_name": "Python 3",
   "language": "python",
   "name": "python3"
  },
  "language_info": {
   "codemirror_mode": {
    "name": "ipython",
    "version": 3
   },
   "file_extension": ".py",
   "mimetype": "text/x-python",
   "name": "python",
   "nbconvert_exporter": "python",
   "pygments_lexer": "ipython3",
   "version": "3.6.8"
  }
 },
 "nbformat": 4,
 "nbformat_minor": 2
}
