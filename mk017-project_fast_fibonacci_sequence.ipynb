{
 "cells": [
  {
   "cell_type": "markdown",
   "metadata": {},
   "source": [
    "### Fibonacci Sequence\n",
    "Enter a number and have the program generate the Fibonacci sequence to that number or to the Nth number."
   ]
  },
  {
   "cell_type": "code",
   "execution_count": 54,
   "metadata": {},
   "outputs": [],
   "source": [
    "# BY USING DYNAMIC COMPUTING WE CAN SPEED UP THE COMPUTATION PROCESS \n",
    "# BE CAREFUL USING RECURSIVE ALGORITHMS SO THAT YOU DO NOT DO THE SAME \n",
    "# COMPUTATION MORE THAT ONCE BY STORING ALREADY DONE COMPUTATIONS.\n",
    "\n",
    "def nth_index_fast_fib_recursive(n, memo={}):   \n",
    "    \"\"\"\n",
    "    Returns nth indexed number in the Fibonacci Sequence.\n",
    "    \"\"\"\n",
    "    if n <= 0:\n",
    "        return 0\n",
    "    elif n == 1:\n",
    "        return 1    \n",
    "    else:        \n",
    "        try:\n",
    "            return memo[n]        \n",
    "        except KeyError:\n",
    "            memo[n] = (nth_index_fast_fib_recursive(n-1, memo) +\n",
    "                       nth_index_fast_fib_recursive(n-2, memo))\n",
    "            return memo[n]\n",
    "        \n",
    "def fast_fib_recursive_list(n):\n",
    "    \"\"\"\n",
    "    Returns first n Fibonacci Numbers.\n",
    "    \"\"\"\n",
    "    return [nth_index_fast_fib_recursive(i) for i in range(n)]\n",
    "\n",
    "def nth_fast_fib_recursive(n):\n",
    "    \"\"\"\n",
    "    Returns nth Fibonacci Number.\n",
    "    \"\"\"\n",
    "    return nth_index_fast_fib_recursive(n-1)"
   ]
  },
  {
   "cell_type": "code",
   "execution_count": 62,
   "metadata": {},
   "outputs": [],
   "source": [
    "def dying_fibonacci_rabbits(n, memo={}):\n",
    "    if n <= 0:\n",
    "        return 0\n",
    "    elif n == 1:\n",
    "        return 1    \n",
    "    else:        \n",
    "        try:\n",
    "            return memo[n]        \n",
    "        except KeyError:\n",
    "            memo[n] = (dying_fibonacci_rabbits(n-1, memo) +\n",
    "                       dying_fibonacci_rabbits(n-2, memo) -\n",
    "                       dying_fibonacci_rabbits(n-5, memo))\n",
    "            return memo[n]\n",
    "\n",
    "def dying_fibonacci_recursive_list(n):\n",
    "    return [dying_fibonacci_rabbits(i) for i in range(n)]"
   ]
  },
  {
   "cell_type": "code",
   "execution_count": 64,
   "metadata": {},
   "outputs": [
    {
     "data": {
      "text/plain": [
       "[0, 1, 1, 2, 3, 5, 7, 11, 16, 24]"
      ]
     },
     "execution_count": 64,
     "metadata": {},
     "output_type": "execute_result"
    }
   ],
   "source": [
    "dying_fibonacci_recursive_list(10)"
   ]
  },
  {
   "cell_type": "code",
   "execution_count": 57,
   "metadata": {},
   "outputs": [],
   "source": [
    "# FIBONACCI SEQUENCE CAN BE COMPUTED ITERATIVELY, AS WELL.\n",
    "\n",
    "def nth_index_fast_fib_iterative(n):\n",
    "    \"\"\"\n",
    "    Returns nth Fibonacci Number.\n",
    "    \"\"\"\n",
    "    current = 0\n",
    "    next = 1\n",
    "    for i in range(n-1):\n",
    "        current, next = next, current + next\n",
    "    return current"
   ]
  },
  {
   "cell_type": "code",
   "execution_count": 58,
   "metadata": {},
   "outputs": [
    {
     "data": {
      "text/plain": [
       "[0, 1, 1, 2, 3, 5, 8, 13, 21, 34]"
      ]
     },
     "execution_count": 58,
     "metadata": {},
     "output_type": "execute_result"
    }
   ],
   "source": [
    "fast_fib_recursive_list(10)"
   ]
  },
  {
   "cell_type": "code",
   "execution_count": 59,
   "metadata": {},
   "outputs": [
    {
     "data": {
      "text/plain": [
       "55"
      ]
     },
     "execution_count": 59,
     "metadata": {},
     "output_type": "execute_result"
    }
   ],
   "source": [
    "fast_fib_recursive(10)"
   ]
  },
  {
   "cell_type": "code",
   "execution_count": 65,
   "metadata": {},
   "outputs": [
    {
     "name": "stdout",
     "output_type": "stream",
     "text": [
      "341 ns ± 34.5 ns per loop (mean ± std. dev. of 7 runs, 1000000 loops each)\n"
     ]
    }
   ],
   "source": [
    "%timeit nth_fast_fib_recursive(100)"
   ]
  },
  {
   "cell_type": "code",
   "execution_count": 66,
   "metadata": {},
   "outputs": [
    {
     "name": "stdout",
     "output_type": "stream",
     "text": [
      "24.2 µs ± 3.24 µs per loop (mean ± std. dev. of 7 runs, 10000 loops each)\n"
     ]
    }
   ],
   "source": [
    "%timeit dying_fibonacci_recursive_list(100)"
   ]
  },
  {
   "cell_type": "code",
   "execution_count": 67,
   "metadata": {},
   "outputs": [
    {
     "name": "stdout",
     "output_type": "stream",
     "text": [
      "7.11 µs ± 186 ns per loop (mean ± std. dev. of 7 runs, 100000 loops each)\n"
     ]
    }
   ],
   "source": [
    "%timeit nth_index_fast_fib_iterative(100)"
   ]
  },
  {
   "cell_type": "markdown",
   "metadata": {},
   "source": [
    "Recursive algorithm with memoization(no repetition of previous computations) with 2 recursive cases is more than 20 times faster than iterative algorithm. However with 3 recursive cases it gets slower."
   ]
  },
  {
   "cell_type": "code",
   "execution_count": null,
   "metadata": {},
   "outputs": [],
   "source": []
  }
 ],
 "metadata": {
  "kernelspec": {
   "display_name": "Python 3",
   "language": "python",
   "name": "python3"
  },
  "language_info": {
   "codemirror_mode": {
    "name": "ipython",
    "version": 3
   },
   "file_extension": ".py",
   "mimetype": "text/x-python",
   "name": "python",
   "nbconvert_exporter": "python",
   "pygments_lexer": "ipython3",
   "version": "3.7.3"
  }
 },
 "nbformat": 4,
 "nbformat_minor": 2
}
